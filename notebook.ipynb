{
  "cells": [
    {
      "cell_type": "markdown",
      "source": [
        "# Python3: from zero to useful applications  \n",
        "\n",
        "### Matteo Barnaba, PhD </br> scientific software developer specialized in HPC </br> matteo.barnaba@exact-lab.it\n",
        "\n",
        "\n",
        "### [materials](https://github.com/mbarnaba/python3)"
      ],
      "metadata": {
        "id": "KcjjuCh19vZV"
      }
    },
    {
      "cell_type": "markdown",
      "source": [
        "## Contents\n",
        "\n",
        "- introduction to computer programming (how to talk to computers)\n",
        "- intro to Python3\n",
        "- variables\n",
        "- conditions, aka flow of control (if, else, elif)\n",
        "- errors (raise, try, catch)\n",
        "- loops (while, for)\n",
        "- functions (def and lambda)\n",
        "- modules (import)\n",
        "- object oriented programming\n",
        "  - classes and objects\n",
        "  - Python data model\n",
        "  - inheritance\n",
        "  - polymorphism\n",
        "  - abstraction\n",
        "  - iterators\n",
        "  - decorators\n",
        "  - functors\n",
        "- collections\n",
        "  - lists\n",
        "  - tuples\n",
        "  - dictionaries\n",
        "  - sets\n",
        "- input-output\n",
        "  - read\n",
        "  - write\n",
        "  - print\n",
        "  - formatted I/O\n",
        "  - contexts\n",
        "\n",
        "\n",
        "- data visualization (matplotlib)\n",
        "- Numpy/Scipy module and numerical applications/examples\n",
        "    - function interpolation and approximation\n",
        "    - numerical optimization\n",
        "    - numerical integration\n",
        "    - solution of differential equations\n",
        "\n",
        "Any suggestions from the attendees are warmly welcome\n",
        "(both for the topics and examples)\n",
        "as the course is intended to be as interactive as possible.\n",
        "\n",
        "It would also be very useful to know whether you know other programming languages, which ones and how well (1-5).\n",
        "So I can explain (hopefully) new concepts in terms of other programming languages you are familiar with.\n",
        "\n",
        "Please let me know via my mail address: matteo.barnaba@exact-lab.it\n",
        "\n",
        "## NOT Contents\n",
        "- This course is not about how to setup Python and the other needed modules on your system.\n",
        "The process is usually quite easy but might be very system-dependent and it is not related to the language itself.\n",
        "\n",
        "I strongly suggest you to use\n",
        "[Google Colab](https://colab.research.google.com)\n",
        "for this course as I will be using it too.\n",
        "I prepared this\n",
        "[jupyter](https://jupyter.org)\n",
        "[notebook](https://github.com/mbarnaba/python3/blob/main/notebook.ipynb)\n",
        "for the course and my idea would be to expand it together.\n",
        "\n",
        "In case you do not like Google, there are other solutions for running\n",
        "[jupyter](https://jupyter.org) notebooks in your browser,\n",
        "e.g., [alternatives](https://www.dataschool.io/cloud-services-for-jupyter-notebook).\n",
        "I did test them, so do not ask me in case something is not right with them, sorry ;)\n",
        "\n"
      ],
      "metadata": {
        "id": "qRVsrSak99Fx"
      }
    },
    {
      "cell_type": "code",
      "source": [
        ""
      ],
      "metadata": {
        "id": "LtCYUSM_-dpQ"
      },
      "execution_count": null,
      "outputs": []
    }
  ],
  "metadata": {
    "kernelspec": {
      "display_name": "Python 3",
      "language": "python",
      "name": "python3"
    },
    "language_info": {
      "codemirror_mode": {
        "name": "ipython"
      },
      "file_extension": ".py",
      "mimetype": "text/x-python",
      "name": "python",
      "nbconvert_exporter": "python"
    },
    "colab": {
      "name": "notebook.ipynb",
      "provenance": []
    }
  },
  "nbformat": 4,
  "nbformat_minor": 0
}