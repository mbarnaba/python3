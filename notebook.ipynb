{
  "cells": [
    {
      "cell_type": "markdown",
      "source": [
        "# Python3: from zero to useful applications\n",
        "\n",
        "Matteo Barnaba, PhD \\\\\n",
        "scientific software developer specialized in HPC \\\\\n",
        "matteo.barnaba@exact-lab.it\n",
        "\n",
        "[materials for the course](https://github.com/mbarnaba/python3)"
      ],
      "metadata": {
        "id": "KcjjuCh19vZV"
      }
    },
    {
      "cell_type": "markdown",
      "source": [
        "## Contents\n",
        "\n",
        "- introduction to computer programming (how to talk to computers)\n",
        "- intro to Python3\n",
        "- variables\n",
        "- conditions, aka flow of control (if, else, elif)\n",
        "- errors (raise, try, catch)\n",
        "- loops (while, for)\n",
        "- functions (def and lambda)\n",
        "- modules (import)\n",
        "- collections\n",
        "  - lists\n",
        "  - tuples\n",
        "  - dictionaries\n",
        "  - sets\n",
        "\n",
        "- input-output\n",
        "  - read\n",
        "  - write\n",
        "  - print\n",
        "  - formatted I/O\n",
        "  - contexts\n",
        "\n",
        "- data visualization (matplotlib)\n",
        "\n",
        "- object oriented programming\n",
        "  - classes and objects\n",
        "  - Python data model\n",
        "  - inheritance\n",
        "  - polymorphism\n",
        "  - abstraction\n",
        "  - iterators\n",
        "  - decorators\n",
        "  - functors\n",
        "\n",
        "- Numpy/Scipy module and numerical applications/examples\n",
        "    - function interpolation and approximation\n",
        "    - numerical optimization\n",
        "    - numerical integration\n",
        "    - solution of differential equations\n",
        "\n",
        "Any suggestions from the attendees are warmly welcome\n",
        "(both for the topics and examples)\n",
        "as the course is intended to be as interactive as possible.\n",
        "\n",
        "It would also be very useful to know whether you know other programming languages, which ones and how well (1-5).\n",
        "So I can explain (hopefully) new concepts in terms of other programming languages you are familiar with.\n",
        "\n",
        "Please let me know via my mail address: matteo.barnaba@exact-lab.it\n",
        "\n",
        "## NOT Contents\n",
        "- This course is not about how to setup Python and the other needed modules on your system.\n",
        "The process is usually quite easy but might be very system-dependent and it is not related to the language itself.\n",
        "\n",
        "I strongly suggest you to use\n",
        "[Google Colab](https://colab.research.google.com)\n",
        "for this course as I will be using it too.\n",
        "I prepared this\n",
        "[jupyter](https://jupyter.org)\n",
        "[notebook](https://github.com/mbarnaba/python3/blob/main/notebook.ipynb)\n",
        "for the course and my idea would be to expand it together.\n",
        "\n",
        "\n",
        "In case you do not like Google, there are other solutions for running\n",
        "[jupyter](https://jupyter.org) notebooks in your browser,\n",
        "e.g., [alternatives](https://www.dataschool.io/cloud-services-for-jupyter-notebook).\n",
        "I did not test them, do not ask me in case something is not right with them ... sorry ;)\n",
        "\n"
      ],
      "metadata": {
        "id": "qRVsrSak99Fx"
      }
    },
    {
      "cell_type": "markdown",
      "source": [
        "# Programming languages  \n",
        "\n",
        "A programming language is any **set of rules** that converts strings, or graphical program elements in the case of visual programming languages, to various kinds of **machine code** output. \n",
        "Programming languages are one kind of computer language, and are used in computer programming to implement algorithms. \n",
        "[wikipedia](https://en.wikipedia.org/wiki/Programming_language#:~:text=A%20programming%20language%20is%20any,computer%20programming%20to%20implement%20algorithms)\n",
        "\n",
        "## In practice\n",
        "- programming languages are for humans, machines are fine with 0 and 1, in fact they do not understand anything else. \n",
        "- writing programs using 0 and 1 (machine language) is totally possible (and programs would be super fast) but it is really hard\n",
        "  - mantaining\n",
        "  - error prone \n",
        "- machine language is **not portable**, \n",
        "every machine (**CPU**) speaks a different language. \\\\\n",
        "[C](https://en.wikipedia.org/wiki/The_C_Programming_Language) \n",
        "is often referred to as a **portable assembler**.  \n",
        "- abstraction solves portability and aids humans (abstract thinking) \n",
        "- [compilers](https://en.wikipedia.org/wiki/Compiler) \n",
        "and [interpreters](https://en.wikipedia.org/wiki/Interpreter_(computing))\n",
        "translate and mediate between humans \n",
        "(smart but slow) and machines (fast but stupid)\n",
        "\n"
      ],
      "metadata": {
        "id": "LTGzpdMZSy2_"
      }
    },
    {
      "cell_type": "markdown",
      "source": [
        "# Python \n",
        "\n",
        "[Python](https://www.python.org/about/) \n",
        "is powerful... and fast; \\\\\n",
        "plays well with others; \\\\\n",
        "runs everywhere; \\\\\n",
        "is friendly & easy to learn; \\\\\n",
        "is Open.\n",
        "\n",
        "\n",
        "[Python](https://en.wikipedia.org/wiki/Python_(programming_language)) \n",
        "is a **high-level**, \n",
        "**general-purpose** programming language. \n",
        "Its design philosophy emphasizes **code readability** with the use of significant indentation. \n",
        "Its language constructs and object-oriented approach aim to help programmers write clear, logical code for small- and large-scale projects. \\\\\n",
        "Python is **dynamically-typed** and **garbage-collected**. \n",
        "It supports multiple programming **paradigms**, \n",
        "including **structured** (particularly procedural), \n",
        "**object-oriented** and **functional** programming. \n",
        "It is often described as a \"batteries included\" language due to its **comprehensive standard library**.\n",
        "\n",
        "## In practice\n",
        "- high-level: you do a lot writing a really small amount of code \\\\\n",
        "(very far away from the machine)\n",
        "- general-purpose: you can code any kind of applications with it\n",
        "(try implementing a web server in [Fortran](https://en.wikipedia.org/wiki/Fortran))\n",
        "- code readability: usually you can understand what the code is doing, \n",
        "even if you are not a programmer ... almost plain English\n",
        "- dynamically-typed: a variable can change its type during execution. \n",
        "The variable stores info/notion about its type. \n",
        "- garbage-collected: very important. \n",
        "If you do not know what this means (you do not need to), you should be very happy to have it.\n",
        "- paradigm: a certain way to structure and reason about (express) the program / problem you need to solve.\n",
        "  - procedural: [C](https://en.wikipedia.org/wiki/The_C_Programming_Language) \n",
        "  - object-oriented: [Java](https://en.wikipedia.org/wiki/Java_(programming_language))\n",
        "  - functional: [Haskell](https://en.wikipedia.org/wiki/Haskell_(programming_language)) (remember the $\\lambda$ symbol)\n",
        "- comprehensive standard library: everything (functionality) you need is, usually, just an **import** away ... very useful"
      ],
      "metadata": {
        "id": "BmhRpmwuZ4QM"
      }
    },
    {
      "cell_type": "code",
      "source": [
        "# variables \n",
        "\n",
        "\n",
        "# numbers \n",
        "a = (1 / 3) * 3 \n",
        "print( a )\n",
        "b = 1\n",
        "\n",
        "if ( a == b ): \n",
        "  print( \"same number\" )\n",
        "else:\n",
        "  print( \"NOT same number\" )\n",
        "\n",
        "\n",
        "\n",
        "# strings\n",
        "# 'Matteo': object in memory, area of memory treated as a string   \n",
        "# name: name of the variable (aka label) -> a way to get to the referenced object   \n",
        "name1 = 'Matteo'\n",
        "name2 = 'Matteo'\n",
        "\n",
        "print( 'name1', name1, id(name1))\n",
        "print( 'name2', name2, id(name2) )\n",
        "\n",
        "if ( name1 == name2 ): \n",
        "  print( \"same name\" )\n",
        "else:\n",
        "  print( \"NOT same name\" )\n",
        "\n",
        "\n",
        "if name1 is name2: \n",
        "  print( \"same object\" )\n",
        "else: \n",
        "  print( 'NOT same object' )\n",
        "\n",
        "# str is read-only or unmutable (string is defined this way, does not hold for all types)\n",
        "# is it reasonable?  \n",
        "name2 = name2.replace( 'o', 'a' )\n",
        "print( 'name1', name1, id(name1))\n",
        "print( 'name2', name2, id(name2) )\n",
        "\n",
        "if name1 is name2: \n",
        "  print( \"same object\" )\n",
        "else: \n",
        "  print( 'NOT same object' )\n",
        "\n",
        "\n",
        "# a doc text \n",
        "'''\n",
        "list1 = list2\n",
        "modify( list2 )\n",
        "'''\n",
        "\n",
        "\n",
        "# force a modification\n",
        "# name1[ 0 ] = 'l'\n",
        "\n",
        "# multiline string  \n",
        "longstring = '''\n",
        "line 1 \n",
        "line 2  \n",
        "'''\n",
        "\n",
        "print( longstring )\n",
        "\n",
        "# escape sequences: \\n, \\t, \\b\n",
        "same = 'line 1 \\nline 2'\n",
        "print( same )"
      ],
      "metadata": {
        "colab": {
          "base_uri": "https://localhost:8080/"
        },
        "id": "sEeI9l8PWZua",
        "outputId": "55ed259c-fbad-40ef-a0d2-69b647ea94ca"
      },
      "execution_count": null,
      "outputs": [
        {
          "output_type": "stream",
          "name": "stdout",
          "text": [
            "1.0\n",
            "same number\n",
            "name1 Matteo 139930363048816\n",
            "name2 Matteo 139930363048816\n",
            "same name\n",
            "same object\n",
            "name1 Matteo 139930363048816\n",
            "name2 Mattea 139930361327216\n",
            "NOT same object\n",
            "\n",
            "line 1 \n",
            "line 2  \n",
            "\n",
            "line 1 \n",
            "line 2\n"
          ]
        }
      ]
    },
    {
      "cell_type": "code",
      "source": [
        "# functions \n",
        "\n",
        "# what is a function? \n",
        "# in math: f : X -> Y, y = f(x)\n",
        "# in coding: a set of operations a I have to perform more than ones\n",
        "\n",
        "def hypot(a, b): \n",
        "  '''\n",
        "  a simple function to eval the hypot given a and b \n",
        "  '''\n",
        "  c = norm( a, b, 2 )\n",
        "  return c \n",
        "\n",
        "# optional parameter \n",
        "def norm(a, b, exp=2):\n",
        "    '''\n",
        "    eval the norm defined by exp. \n",
        "    when exp is a numbe: 1)\n",
        "    when exp is 'inf': 2) \n",
        "    '''\n",
        "\n",
        "    if type(exp) is int or type(exp) is float:\n",
        "      c = (a**exp + b**exp)**(1/exp)\n",
        "    else:\n",
        "      c = max( a, b )     \n",
        "    return c\n",
        "\n",
        "\n",
        "c = norm( 3, 4 )\n",
        "print( \"c =\", c )\n",
        "\n",
        "c = norm( 3, 4, 3 )\n",
        "print( \"c =\", c )\n",
        "\n",
        "c = norm( 3, 4, exp = 3 )\n",
        "print( \"c =\", c )\n",
        "\n",
        "c = norm( 3, 4, exp = 'inf' )\n",
        "print( \"c =\", c )\n",
        "\n"
      ],
      "metadata": {
        "colab": {
          "base_uri": "https://localhost:8080/"
        },
        "id": "VBC2UUavWiu1",
        "outputId": "7fc55d33-27c0-49ca-8bd4-49db3c1553b3"
      },
      "execution_count": null,
      "outputs": [
        {
          "output_type": "stream",
          "name": "stdout",
          "text": [
            "c = 5.0\n",
            "c = 4.497941445275415\n",
            "c = 4.497941445275415\n",
            "c = 4\n"
          ]
        }
      ]
    },
    {
      "cell_type": "code",
      "source": [
        "# recursive function\n",
        "def factorial_recursive(n):\n",
        "  '''\n",
        "  n! when is interger\n",
        "  '''\n",
        "\n",
        "  # exit case \n",
        "  if (n < 2): \n",
        "    return n\n",
        "\n",
        "  #res = n * (n - 1)!\n",
        "  res = n * factorial_recursive( n - 1)\n",
        "  return res \n",
        "\n",
        "def factorial_loop(n): \n",
        "  res = 1 \n",
        "  while n > 1: \n",
        "    res = res * n\n",
        "    n = n - 1\n",
        "  return res\n",
        "\n",
        "\n",
        "# doubly recursive \n",
        "def fib(n): \n",
        "  if (n < 2): \n",
        "    return n\n",
        "\n",
        "  res = fib( n - 1 ) + fib( n - 2 )\n",
        "  return res\n",
        "\n",
        "\n",
        "def new_x( a, b, f ):\n",
        "  # bisection  \n",
        "  x = 0.5 * (a + b)\n",
        "  # secant newton\n",
        "  return x\n",
        "\n",
        "def taylor(f, *inter, tol=1e-6, maxiter=1e2, iter=0):\n",
        "  ''' \n",
        "  x in [a, b] so that f(x) = 0\n",
        "  \n",
        "  f( a ) * f( b ) < 0\n",
        "  ''' \n",
        "  # unpaching\n",
        "  x = new_x( *inter, f )\n",
        "  fx = f( x )\n",
        "\n",
        "  if abs( fx ) < tol or iter > maxiter: \n",
        "    # I can return more that ono value \n",
        "    return (x, iter)  \n",
        "\n",
        "  if f( x ) * f( a ) < 0:\n",
        "    # tuple \n",
        "    inter = ( a, x )\n",
        "  else: \n",
        "    inter = ( x, b )\n",
        "\n",
        "  # unpacking \n",
        "  (x, iter) = taylor( f, *inter, iter = iter + 1, maxiter = maxiter)\n",
        "  \n",
        "  # I can return more that ono value \n",
        "  return (x, iter)\n",
        "\n",
        "res = factorial_recursive( 4 )\n",
        "print( res )\n",
        "\n",
        "res = factorial_loop( 4 )\n",
        "print( res )\n",
        "\n",
        "\n",
        "def parab(x):\n",
        "  y = x**2 - 2 \n",
        "  return y\n",
        "\n",
        "\n",
        "a = -10 \n",
        "b = 0\n",
        "\n",
        "# lambda functions: nameless function \n",
        "#f = lambda x: x**2 - 2\n",
        "\n",
        "(x, iter) = taylor( \n",
        "  lambda x: x**2 - 2, \n",
        "  a, b \n",
        ")\n",
        "print( \"solution is\", x, \"obtained in\", iter, \"iterations\" )\n",
        "\n",
        "# format string 'f'\n",
        "print( f\"solution is {x} obtained in {iter} iterations\" )"
      ],
      "metadata": {
        "colab": {
          "base_uri": "https://localhost:8080/"
        },
        "id": "82bbPqqFW4sq",
        "outputId": "580d45be-fce9-46b0-c4f7-482245e323c6"
      },
      "execution_count": null,
      "outputs": [
        {
          "output_type": "stream",
          "name": "stdout",
          "text": [
            "24\n",
            "24\n",
            "solution is -5.354330708661418 obtained in 101 iterations\n",
            "solution is -5.354330708661418 obtained in 101 iterations\n"
          ]
        }
      ]
    },
    {
      "cell_type": "code",
      "source": [
        "# errors \n",
        "\n",
        "def taylor(f, *inter, tol=1e-6, maxiter=1e2, iter=0):\n",
        "  ''' \n",
        "  x in [a, b] so that f(x) = 0\n",
        "  \n",
        "  f( a ) * f( b ) < 0\n",
        "  ''' \n",
        "  # unpaching\n",
        "  x = new_x( *inter, f )\n",
        "  fx = f( x )\n",
        "\n",
        "  if abs( fx ) < tol or iter > maxiter: \n",
        "    # I can return more that ono value \n",
        "    return (x, iter)  \n",
        "\n",
        "  if f( x ) * f( a ) < 0:\n",
        "    # tuple \n",
        "    inter = ( a, x )\n",
        "  else: \n",
        "    inter = ( x, b )\n",
        "\n",
        "  # unpacking \n",
        "  (x, iter) = taylor( f, *inter, iter = iter + 1, maxiter = maxiter)\n",
        "  \n",
        "  # I can return more that ono value \n",
        "  return (x, iter)\n",
        "\n",
        "(x, iter) = taylor( \n",
        "  lambda x: x**2 - 2, \n",
        "  a, b \n",
        ")\n",
        "\n",
        "# format string 'f'\n",
        "print( f\"solution is {x} obtained in {iter} iterations\" )"
      ],
      "metadata": {
        "colab": {
          "base_uri": "https://localhost:8080/"
        },
        "id": "4UVsvTVxlJUh",
        "outputId": "1e84b574-ae67-4391-ef87-0baeed9560c8"
      },
      "execution_count": null,
      "outputs": [
        {
          "output_type": "stream",
          "name": "stdout",
          "text": [
            "solution is -5.354330708661418 obtained in 101 iterations\n"
          ]
        }
      ]
    },
    {
      "cell_type": "code",
      "source": [
        "# exceptions \n",
        "# error handling \n",
        "def read_number(iter=1): \n",
        "  numstr = input( \"give me a number \" )\n",
        "\n",
        "  try:\n",
        "    num = int( numstr ) \n",
        "      \n",
        "  except: \n",
        "    print( f\"{numstr} is not a valid number (is a {type(numstr)})\" )\n",
        "    \n",
        "    if iter < 2: \n",
        "      num = read_number( iter + 1 )\n",
        "\n",
        "    else: \n",
        "      raise( \"enough!!\" )\n",
        "  return num\n",
        "\n",
        "\n",
        "\n",
        "# final user \n",
        "\n",
        "num = read_number()\n",
        "print( f\"the number is {num} of type\", type(num) )"
      ],
      "metadata": {
        "colab": {
          "base_uri": "https://localhost:8080/"
        },
        "id": "NDxK-LBP5JO9",
        "outputId": "a382d9c7-6c55-46d5-eb5e-1e2b118ea298"
      },
      "execution_count": null,
      "outputs": [
        {
          "output_type": "stream",
          "name": "stdout",
          "text": [
            "give me a number 22 \n",
            "the number is 22 of type <class 'int'>\n"
          ]
        }
      ]
    },
    {
      "cell_type": "code",
      "source": [
        "def myint(string): \n",
        "  try: \n",
        "     num = int( string ) \n",
        "  except: \n",
        "    num = None\n",
        "  return num\n",
        "\n",
        "# exceptions \n",
        "# error handling \n",
        "def read_number(iter=1): \n",
        "  numstr = input( \"give me a number \" )\n",
        "\n",
        "  num = myint( numstr ) \n",
        "  if num is None: \n",
        "    print( f\"{numstr} is not a valid number (is a {type(numstr)})\" )\n",
        "    \n",
        "    if iter < 2:\n",
        "      num = read_number( iter + 1 )   \n",
        "  return num\n",
        "\n",
        "\n",
        "num = read_number()\n",
        "if num is None: \n",
        "  print( \"stupid user\" )"
      ],
      "metadata": {
        "colab": {
          "base_uri": "https://localhost:8080/"
        },
        "id": "NGoeC-HS4PyK",
        "outputId": "7adbd0b3-e6d7-4017-a702-45bc61084037"
      },
      "execution_count": null,
      "outputs": [
        {
          "name": "stdout",
          "output_type": "stream",
          "text": [
            "give me a number 22\n"
          ]
        }
      ]
    },
    {
      "cell_type": "code",
      "source": [
        "# collections \n",
        "\n",
        "# list: a squence of objects of the same type (better)\n",
        "# mutable \n",
        "numbers = [ 1, 2, 3 ]\n",
        "\n",
        "for num in range( 12, 15 ): \n",
        "  numbers.append( num )\n",
        "  numbers.insert( num, 3 )\n",
        "\n",
        "# indeces start at 0\n",
        "print( numbers, \"element: 2\", numbers[ 1 ] )\n",
        "\n",
        "nums13 = numbers[ 1 : 3 ]\n",
        "print( \"nums13\", nums13 )\n",
        "\n",
        "last = numbers.pop()\n",
        "print( \"last:\", last )\n",
        "\n",
        "print( numbers )\n",
        "\n",
        "def fornumber(number):\n",
        "  print( 'number:', number )\n",
        "\n",
        "def forstring(string): \n",
        "  print( 'string:', string  ) \n",
        "\n",
        "for num in numbers: \n",
        "  if type(num) is int: \n",
        "    fornumber( num )\n",
        "  else: \n",
        "    forstring( num ) \n",
        "\n",
        "\n",
        "# tuple immutable\n",
        "a = ( 2, 3, 'me' )\n",
        "print( a ) \n",
        "\n",
        "#a.append( 4 )\n",
        "#a += 4\n",
        "\n",
        "\n",
        "# dict \n",
        "dct = dict()\n",
        "\n",
        "# key is \"HASHable\" <-> immutable \n",
        "# dct[ key ] = value (whatever)\n",
        "dct[ 'name' ] = 'matteo' \n",
        "dct[ 'surname' ] = 'barnaba'\n",
        "print( dct )\n",
        "\n",
        "# traversing (unpacking and returning more than one value)\n",
        "print( \"traversing dct\" )\n",
        "for (key, val) in dct.items(): \n",
        "  print( key, val ) \n",
        "\n",
        "for key in dct.keys(): \n",
        "  print( key, dct[ key ] )\n",
        "\n",
        "\n",
        "# retrieve O(1), hash eval\n",
        "print( dct[ 'name' ] )\n",
        "\n",
        "\n",
        "# (lon, lat)\n",
        "key = ( 13, 45 )\n",
        "#insert \n",
        "pga = dict()\n",
        "pga[ key ] = 458 \n",
        "\n",
        "print( pga )\n",
        "\n",
        "\n",
        "# complexity O( len(pgas) )\n",
        "pgas = [ ( (13, 45), 450 ), ( (13, 46), 584 ) ]\n",
        "for pga in pgas: \n",
        "  ( (lon, lat), pgaval ) = pga\n",
        "  if (lon, lat) == (13, 45): \n",
        "    print( pga )\n",
        "\n",
        "# set, collection with no repetition\n",
        "snumbers = set( numbers ) \n",
        "print( snumbers )"
      ],
      "metadata": {
        "id": "8uYz8L8G_snF",
        "colab": {
          "base_uri": "https://localhost:8080/"
        },
        "outputId": "8fe4d402-0013-44a0-815f-fde458065810"
      },
      "execution_count": null,
      "outputs": [
        {
          "output_type": "stream",
          "name": "stdout",
          "text": [
            "[1, 2, 3, 12, 3, 13, 3, 14, 3] element: 2 2\n",
            "nums13 [2, 3]\n",
            "last: 3\n",
            "[1, 2, 3, 12, 3, 13, 3, 14]\n",
            "number: 1\n",
            "number: 2\n",
            "number: 3\n",
            "number: 12\n",
            "number: 3\n",
            "number: 13\n",
            "number: 3\n",
            "number: 14\n",
            "(2, 3, 'me')\n",
            "{'name': 'matteo', 'surname': 'barnaba'}\n",
            "traversing dct\n",
            "name matteo\n",
            "surname barnaba\n",
            "name matteo\n",
            "surname barnaba\n",
            "matteo\n",
            "{(13, 45): 458}\n",
            "((13, 45), 450)\n",
            "{1, 2, 3, 12, 13, 14}\n"
          ]
        }
      ]
    },
    {
      "cell_type": "code",
      "source": [
        "def sum(tokens): \n",
        "  num = float( tokens[ 0 ] ) + float( tokens[ 2 ] )\n",
        "  return num\n",
        "\n",
        "def sub(tokens):\n",
        "  num = float( tokens[ 0 ] ) - float( tokens[ 2 ] )\n",
        "  return num\n",
        "\n",
        "functions = {\n",
        "  '+': sum, \n",
        "  '-': sub\n",
        "}\n",
        "\n",
        "def string2tokens(string): \n",
        "  tokens = string.split()\n",
        "  return tokens\n",
        "\n",
        "def tokens2number(tokens):\n",
        "  idx = 1\n",
        "\n",
        "  operator = tokens[ idx ]\n",
        "\n",
        "  function = functions[ operator ]\n",
        "  number = function( tokens )\n",
        "\n",
        "  print( f\"tokens: {tokens}, operator: {operator}, partial: {number}\" )\n",
        "\n",
        "  # remove idx-1 e idx from tokens \n",
        "  tokens = tokens[ idx + 1 : ]\n",
        "\n",
        "  # replace idx + 1 with num \n",
        "  tokens[ 0 ] = number\n",
        "\n",
        "  if len( tokens ) > 1:\n",
        "    number = tokens2number( tokens ) \n",
        "  \n",
        "  else:\n",
        "    number = float( tokens[0] )\n",
        "  return number \n",
        "\n",
        "\n",
        "def calculator(string):\n",
        "  tokens = string2tokens( string )\n",
        "  number = tokens2number( tokens )\n",
        "  return number\n",
        "\n",
        "string = \"12 + 5 - 4 + 23 - 98 + 78 - 97 + 36 - 78 + 17\"\n",
        "number = calculator( string )\n",
        "print( f\"result: {number}\" )"
      ],
      "metadata": {
        "colab": {
          "base_uri": "https://localhost:8080/"
        },
        "id": "sJHKzQkCTk1z",
        "outputId": "c76ce990-6f5e-4ea3-85f9-bf6acee35b6a"
      },
      "execution_count": 108,
      "outputs": [
        {
          "output_type": "stream",
          "name": "stdout",
          "text": [
            "tokens: ['12', '+', '5', '-', '4', '+', '23', '-', '98', '+', '78', '-', '97', '+', '36', '-', '78', '+', '17'], operator: +, partial: 17.0\n",
            "tokens: [17.0, '-', '4', '+', '23', '-', '98', '+', '78', '-', '97', '+', '36', '-', '78', '+', '17'], operator: -, partial: 13.0\n",
            "tokens: [13.0, '+', '23', '-', '98', '+', '78', '-', '97', '+', '36', '-', '78', '+', '17'], operator: +, partial: 36.0\n",
            "tokens: [36.0, '-', '98', '+', '78', '-', '97', '+', '36', '-', '78', '+', '17'], operator: -, partial: -62.0\n",
            "tokens: [-62.0, '+', '78', '-', '97', '+', '36', '-', '78', '+', '17'], operator: +, partial: 16.0\n",
            "tokens: [16.0, '-', '97', '+', '36', '-', '78', '+', '17'], operator: -, partial: -81.0\n",
            "tokens: [-81.0, '+', '36', '-', '78', '+', '17'], operator: +, partial: -45.0\n",
            "tokens: [-45.0, '-', '78', '+', '17'], operator: -, partial: -123.0\n",
            "tokens: [-123.0, '+', '17'], operator: +, partial: -106.0\n",
            "result: -106.0\n"
          ]
        }
      ]
    },
    {
      "cell_type": "code",
      "source": [
        "# modules \n",
        "\n",
        "import sys\n",
        "\n",
        "\n",
        "dir( sys )\n",
        "sys.getrecursionlimit()\n",
        "sys.setrecursionlimit( 2 * sys.getrecursionlimit() )\n",
        "sys.getrecursionlimit()"
      ],
      "metadata": {
        "colab": {
          "base_uri": "https://localhost:8080/"
        },
        "id": "yLzlf4HVeszA",
        "outputId": "2a09c316-defe-4d6c-a6b2-8ec0b0e03ebd"
      },
      "execution_count": null,
      "outputs": [
        {
          "output_type": "execute_result",
          "data": {
            "text/plain": [
              "64000"
            ]
          },
          "metadata": {},
          "execution_count": 69
        }
      ]
    },
    {
      "cell_type": "code",
      "source": [
        "from matplotlib import pyplot as plt "
      ],
      "metadata": {
        "id": "7Xhe-f4cjqm0"
      },
      "execution_count": null,
      "outputs": []
    },
    {
      "cell_type": "code",
      "source": [
        "# x = list()\n",
        "# for i in range(i): \n",
        "#   x.append()\n",
        "\n",
        "\n",
        "a = 0\n",
        "b = 5\n",
        "n = 100\n",
        "\n",
        "dct = {\n",
        "  'x' : [ i * (b - a) / n for i in range(n) ], \n",
        "  'y1' : [ x[ i ] **2 for i in range(len(x) ) ],\n",
        "  'y2' : [ x[ i ] **3 for i in range(len(x) ) ]  \n",
        "}\n",
        "\n",
        "\n",
        "(fig, ax) = plt.subplots()\n",
        "\n",
        "for yname in ( 'y1', 'y2' ): \n",
        "  x = dct[ 'x' ]\n",
        "  y = dct[ yname ]\n",
        "  ax.plot( x, y, label = yname )\n",
        "\n",
        "  ax.set_xlabel( 'velocity ($m/s$)' )\n",
        "  \n",
        "  ax.set_ylabel( '$\\sum a_i$' )\n",
        "\n",
        "ax.set_yscale( 'log' )\n",
        "\n",
        "ax.legend()\n",
        "ax.grid()\n",
        "fig.savefig( 'test.svg' )"
      ],
      "metadata": {
        "colab": {
          "base_uri": "https://localhost:8080/",
          "height": 283
        },
        "id": "gAMbosZ5kMx9",
        "outputId": "ffe639f9-2dc8-4d95-93c4-456b0f12b118"
      },
      "execution_count": null,
      "outputs": [
        {
          "output_type": "display_data",
          "data": {
            "text/plain": [
              "<Figure size 432x288 with 1 Axes>"
            ],
            "image/png": "[encoded data removed]"
          },
          "metadata": {
            "needs_background": "light"
          }
        }
      ]
    },
    {
      "cell_type": "code",
      "source": [
        ""
      ],
      "metadata": {
        "id": "Ra2M5eaLk11x"
      },
      "execution_count": null,
      "outputs": []
    }
  ],
  "metadata": {
    "kernelspec": {
      "display_name": "Python 3",
      "language": "python",
      "name": "python3"
    },
    "language_info": {
      "codemirror_mode": {
        "name": "ipython"
      },
      "file_extension": ".py",
      "mimetype": "text/x-python",
      "name": "python",
      "nbconvert_exporter": "python"
    },
    "colab": {
      "name": "notebook.ipynb",
      "provenance": [],
      "collapsed_sections": []
    }
  },
  "nbformat": 4,
  "nbformat_minor": 0
}