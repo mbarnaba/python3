{
  "cells": [
    {
      "cell_type": "markdown",
      "source": [
        "# Python3: from zero to useful applications\n",
        "\n",
        "Matteo Barnaba, PhD \\\\\n",
        "scientific software developer specialized in HPC \\\\\n",
        "matteo.barnaba@exact-lab.it\n",
        "\n",
        "[materials for the course](https://github.com/mbarnaba/python3)"
      ],
      "metadata": {
        "id": "KcjjuCh19vZV"
      }
    },
    {
      "cell_type": "markdown",
      "source": [
        "## Contents\n",
        "\n",
        "- introduction to computer programming (how to talk to computers)\n",
        "- intro to Python3\n",
        "- variables\n",
        "- conditions, aka flow of control (if, else, elif)\n",
        "- errors (raise, try, catch)\n",
        "- loops (while, for)\n",
        "- functions (def and lambda)\n",
        "- modules (import)\n",
        "- collections\n",
        "  - lists\n",
        "  - tuples\n",
        "  - dictionaries\n",
        "  - sets\n",
        "\n",
        "- input-output\n",
        "  - read\n",
        "  - write\n",
        "  - print\n",
        "  - formatted I/O\n",
        "  - contexts\n",
        "\n",
        "- data visualization (matplotlib)\n",
        "\n",
        "- object oriented programming\n",
        "  - classes and objects\n",
        "  - Python data model\n",
        "  - inheritance\n",
        "  - polymorphism\n",
        "  - abstraction\n",
        "  - iterators\n",
        "  - decorators\n",
        "  - functors\n",
        "\n",
        "- Numpy/Scipy module and numerical applications/examples\n",
        "    - function interpolation and approximation\n",
        "    - numerical optimization\n",
        "    - numerical integration\n",
        "    - solution of differential equations\n",
        "\n",
        "Any suggestions from the attendees are warmly welcome\n",
        "(both for the topics and examples)\n",
        "as the course is intended to be as interactive as possible.\n",
        "\n",
        "It would also be very useful to know whether you know other programming languages, which ones and how well (1-5).\n",
        "So I can explain (hopefully) new concepts in terms of other programming languages you are familiar with.\n",
        "\n",
        "Please let me know via my mail address: matteo.barnaba@exact-lab.it\n",
        "\n",
        "## NOT Contents\n",
        "- This course is not about how to setup Python and the other needed modules on your system.\n",
        "The process is usually quite easy but might be very system-dependent and it is not related to the language itself.\n",
        "\n",
        "I strongly suggest you to use\n",
        "[Google Colab](https://colab.research.google.com)\n",
        "for this course as I will be using it too.\n",
        "I prepared this\n",
        "[jupyter](https://jupyter.org)\n",
        "[notebook](https://github.com/mbarnaba/python3/blob/main/notebook.ipynb)\n",
        "for the course and my idea would be to expand it together.\n",
        "\n",
        "\n",
        "In case you do not like Google, there are other solutions for running\n",
        "[jupyter](https://jupyter.org) notebooks in your browser,\n",
        "e.g., [alternatives](https://www.dataschool.io/cloud-services-for-jupyter-notebook).\n",
        "I did not test them, do not ask me in case something is not right with them ... sorry ;)\n",
        "\n"
      ],
      "metadata": {
        "id": "qRVsrSak99Fx"
      }
    },
    {
      "cell_type": "markdown",
      "source": [
        "# Programming languages  \n",
        "\n",
        "A programming language is any **set of rules** that converts strings, or graphical program elements in the case of visual programming languages, to various kinds of **machine code** output. \n",
        "Programming languages are one kind of computer language, and are used in computer programming to implement algorithms. \n",
        "[wikipedia](https://en.wikipedia.org/wiki/Programming_language#:~:text=A%20programming%20language%20is%20any,computer%20programming%20to%20implement%20algorithms)\n",
        "\n",
        "## In practice\n",
        "- programming languages are for humans, machines are fine with 0 and 1, in fact they do not understand anything else. \n",
        "- writing programs using 0 and 1 (machine language) is totally possible (and programs would be super fast) but it is really hard\n",
        "  - mantaining\n",
        "  - error prone \n",
        "- machine language is **not portable**, \n",
        "every machine (**CPU**) speaks a different language. \\\\\n",
        "[C](https://en.wikipedia.org/wiki/The_C_Programming_Language) \n",
        "is often referred to as a **portable assembler**.  \n",
        "- abstraction solves portability and aids humans (abstract thinking) \n",
        "- [compilers](https://en.wikipedia.org/wiki/Compiler) \n",
        "and [interpreters](https://en.wikipedia.org/wiki/Interpreter_(computing))\n",
        "translate and mediate between humans \n",
        "(smart but slow) and machines (fast but stupid)\n",
        "\n"
      ],
      "metadata": {
        "id": "LTGzpdMZSy2_"
      }
    },
    {
      "cell_type": "markdown",
      "source": [
        "# Python \n",
        "\n",
        "[Python](https://www.python.org/about/) \n",
        "is powerful... and fast; \\\\\n",
        "plays well with others; \\\\\n",
        "runs everywhere; \\\\\n",
        "is friendly & easy to learn; \\\\\n",
        "is Open.\n",
        "\n",
        "\n",
        "[Python](https://en.wikipedia.org/wiki/Python_(programming_language)) \n",
        "is a **high-level**, \n",
        "**general-purpose** programming language. \n",
        "Its design philosophy emphasizes **code readability** with the use of significant indentation. \n",
        "Its language constructs and object-oriented approach aim to help programmers write clear, logical code for small- and large-scale projects. \\\\\n",
        "Python is **dynamically-typed** and **garbage-collected**. \n",
        "It supports multiple programming **paradigms**, \n",
        "including **structured** (particularly procedural), \n",
        "**object-oriented** and **functional** programming. \n",
        "It is often described as a \"batteries included\" language due to its **comprehensive standard library**.\n",
        "\n",
        "## In practice\n",
        "- high-level: you do a lot writing a really small amount of code \\\\\n",
        "(very far away from the machine)\n",
        "- general-purpose: you can code any kind of applications with it\n",
        "(try implementing a web server in [Fortran](https://en.wikipedia.org/wiki/Fortran))\n",
        "- code readability: usually you can understand what the code is doing, \n",
        "even if you are not a programmer ... almost plain English\n",
        "- dynamically-typed: a variable can change its type during execution. \n",
        "The variable stores info/notion about its type. \n",
        "- garbage-collected: very important. \n",
        "If you do not know what this means (you do not need to), you should be very happy to have it.\n",
        "- paradigm: a certain way to structure and reason about (express) the program / problem you need to solve.\n",
        "  - procedural: [C](https://en.wikipedia.org/wiki/The_C_Programming_Language) \n",
        "  - object-oriented: [Java](https://en.wikipedia.org/wiki/Java_(programming_language))\n",
        "  - functional: [Haskell](https://en.wikipedia.org/wiki/Haskell_(programming_language)) (remember the $\\lambda$ symbol)\n",
        "- comprehensive standard library: everything (functionality) you need is, usually, just an **import** away ... very useful"
      ],
      "metadata": {
        "id": "BmhRpmwuZ4QM"
      }
    },
    {
      "cell_type": "code",
      "source": [
        "# variables \n",
        "\n",
        "\n",
        "# numbers \n",
        "a = (1 / 3) * 3 \n",
        "print( a )\n",
        "b = 1\n",
        "\n",
        "if ( a == b ): \n",
        "  print( \"same number\" )\n",
        "else:\n",
        "  print( \"NOT same number\" )\n",
        "\n",
        "\n",
        "\n",
        "# strings\n",
        "# 'Matteo': object in memory, area of memory treated as a string   \n",
        "# name: name of the variable (aka label) -> a way to get to the referenced object   \n",
        "name1 = 'Matteo'\n",
        "name2 = 'Matteo'\n",
        "\n",
        "print( 'name1', name1, id(name1))\n",
        "print( 'name2', name2, id(name2) )\n",
        "\n",
        "if ( name1 == name2 ): \n",
        "  print( \"same name\" )\n",
        "else:\n",
        "  print( \"NOT same name\" )\n",
        "\n",
        "\n",
        "if name1 is name2: \n",
        "  print( \"same object\" )\n",
        "else: \n",
        "  print( 'NOT same object' )\n",
        "\n",
        "# str is read-only or unmutable (string is defined this way, does not hold for all types)\n",
        "# is it reasonable?  \n",
        "name2 = name2.replace( 'o', 'a' )\n",
        "print( 'name1', name1, id(name1))\n",
        "print( 'name2', name2, id(name2) )\n",
        "\n",
        "if name1 is name2: \n",
        "  print( \"same object\" )\n",
        "else: \n",
        "  print( 'NOT same object' )\n",
        "\n",
        "\n",
        "# a doc text \n",
        "'''\n",
        "list1 = list2\n",
        "modify( list2 )\n",
        "'''\n",
        "\n",
        "\n",
        "# force a modification\n",
        "# name1[ 0 ] = 'l'\n",
        "\n",
        "# multiline string  \n",
        "longstring = '''\n",
        "line 1 \n",
        "line 2  \n",
        "'''\n",
        "\n",
        "print( longstring )\n",
        "\n",
        "# escape sequences: \\n, \\t, \\b\n",
        "same = 'line 1 \\nline 2'\n",
        "print( same )"
      ],
      "metadata": {
        "colab": {
          "base_uri": "https://localhost:8080/"
        },
        "id": "sEeI9l8PWZua",
        "outputId": "967ddfb9-48f6-4267-a59a-800c2d2f6502"
      },
      "execution_count": null,
      "outputs": [
        {
          "output_type": "stream",
          "name": "stdout",
          "text": [
            "1.0\n",
            "same number\n",
            "name1 Matteo 140017638674288\n",
            "name2 Matteo 140017638674288\n",
            "same name\n",
            "same object\n",
            "name1 Matteo 140017638674288\n",
            "name2 Mattea 140017639238448\n",
            "NOT same object\n",
            "\n",
            "line 1 \n",
            "line 2  \n",
            "\n",
            "line 1 \n",
            "line 2\n"
          ]
        }
      ]
    },
    {
      "cell_type": "code",
      "source": [
        "# functions \n",
        "\n",
        "# what is a function? \n",
        "# in math: f : X -> Y, y = f(x)\n",
        "# in coding: a set of operations a I have to perform more than ones\n",
        "\n",
        "def hypot(a, b): \n",
        "  '''\n",
        "  a simple function to eval the hypot given a and b \n",
        "  '''\n",
        "  c = norm( a, b, 2 )\n",
        "  return c \n",
        "\n",
        "# optional parameter \n",
        "def norm(a, b, exp=2):\n",
        "    '''\n",
        "    eval the norm defined by exp. \n",
        "    when exp is a numbe: 1)\n",
        "    when exp is 'inf': 2) \n",
        "    '''\n",
        "\n",
        "    if type(exp) is int or type(exp) is float:\n",
        "      c = (a**exp + b**exp)**(1/exp)\n",
        "    else:\n",
        "      c = max( a, b )     \n",
        "    return c\n",
        "\n",
        "\n",
        "c = norm( 3, 4 )\n",
        "print( \"c =\", c )\n",
        "\n",
        "c = norm( 3, 4, 3 )\n",
        "print( \"c =\", c )\n",
        "\n",
        "c = norm( 3, 4, exp = 3 )\n",
        "print( \"c =\", c )\n",
        "\n",
        "c = norm( 3, 4, exp = 'inf' )\n",
        "print( \"c =\", c )\n",
        "\n"
      ],
      "metadata": {
        "colab": {
          "base_uri": "https://localhost:8080/"
        },
        "id": "VBC2UUavWiu1",
        "outputId": "022baddf-91f0-42d1-ad12-9a2a4b10a92a"
      },
      "execution_count": null,
      "outputs": [
        {
          "output_type": "stream",
          "name": "stdout",
          "text": [
            "c = 5.0\n",
            "c = 4.497941445275415\n",
            "c = 4.497941445275415\n",
            "c = 4\n"
          ]
        }
      ]
    },
    {
      "cell_type": "code",
      "source": [
        "# recursive function\n",
        "def factorial_recursive(n):\n",
        "  '''\n",
        "  n! when is interger\n",
        "  '''\n",
        "\n",
        "  # exit case \n",
        "  if (n < 2): \n",
        "    return n\n",
        "\n",
        "  #res = n * (n - 1)!\n",
        "  res = n * factorial_recursive( n - 1)\n",
        "  return res \n",
        "\n",
        "def factorial_loop(n): \n",
        "  res = 1 \n",
        "  while n > 1: \n",
        "    res = res * n\n",
        "    n = n - 1\n",
        "  return res\n",
        "\n",
        "\n",
        "# doubly recursive \n",
        "def fib(n): \n",
        "  if (n < 2): \n",
        "    return n\n",
        "\n",
        "  res = fib( n - 1 ) + fib( n - 2 )\n",
        "  return res\n",
        "\n",
        "\n",
        "def new_x( a, b, f ):\n",
        "  # bisection  \n",
        "  x = 0.5 * (a + b)\n",
        "  # secant newton\n",
        "  return x\n",
        "\n",
        "def taylor(f, *inter, tol=1e-6, maxiter=1e2, iter=0):\n",
        "  ''' \n",
        "  x in [a, b] so that f(x) = 0\n",
        "  \n",
        "  f( a ) * f( b ) < 0\n",
        "  ''' \n",
        "  # unpaching\n",
        "  x = new_x( *inter, f )\n",
        "  fx = f( x )\n",
        "\n",
        "  if abs( fx ) < tol or iter > maxiter: \n",
        "    # I can return more that ono value \n",
        "    return (x, iter)  \n",
        "\n",
        "  if f( x ) * f( a ) < 0:\n",
        "    # tuple \n",
        "    inter = ( a, x )\n",
        "  else: \n",
        "    inter = ( x, b )\n",
        "\n",
        "  # unpacking \n",
        "  (x, iter) = taylor( f, *inter, iter = iter + 1, maxiter = maxiter)\n",
        "  \n",
        "  # I can return more that ono value \n",
        "  return (x, iter)\n",
        "\n",
        "res = factorial_recursive( 4 )\n",
        "print( res )\n",
        "\n",
        "res = factorial_loop( 4 )\n",
        "print( res )\n",
        "\n",
        "\n",
        "def parab(x):\n",
        "  y = x**2 - 2 \n",
        "  return y\n",
        "\n",
        "\n",
        "a = -10 \n",
        "b = 0\n",
        "\n",
        "# lambda functions: nameless function \n",
        "#f = lambda x: x**2 - 2\n",
        "\n",
        "(x, iter) = taylor( \n",
        "  lambda x: x**2 - 2, \n",
        "  a, b \n",
        ")\n",
        "print( \"solution is\", x, \"obtained in\", iter, \"iterations\" )\n",
        "\n",
        "# format string 'f'\n",
        "print( f\"solution is {x} obtained in {iter} iterations\" )"
      ],
      "metadata": {
        "colab": {
          "base_uri": "https://localhost:8080/"
        },
        "id": "82bbPqqFW4sq",
        "outputId": "983701ae-037e-4d15-f87a-e49dc5d57f7f"
      },
      "execution_count": null,
      "outputs": [
        {
          "output_type": "stream",
          "name": "stdout",
          "text": [
            "24\n",
            "24\n",
            "solution is -5.354330708661418 obtained in 101 iterations\n",
            "solution is -5.354330708661418 obtained in 101 iterations\n"
          ]
        }
      ]
    },
    {
      "cell_type": "code",
      "source": [
        "# errors \n",
        "\n",
        "def taylor(f, *inter, tol=1e-6, maxiter=1e2, iter=0):\n",
        "  ''' \n",
        "  x in [a, b] so that f(x) = 0\n",
        "  \n",
        "  f( a ) * f( b ) < 0\n",
        "  ''' \n",
        "  # unpaching\n",
        "  x = new_x( *inter, f )\n",
        "  fx = f( x )\n",
        "\n",
        "  if abs( fx ) < tol or iter > maxiter: \n",
        "    # I can return more that ono value \n",
        "    return (x, iter)  \n",
        "\n",
        "  if f( x ) * f( a ) < 0:\n",
        "    # tuple \n",
        "    inter = ( a, x )\n",
        "  else: \n",
        "    inter = ( x, b )\n",
        "\n",
        "  # unpacking \n",
        "  (x, iter) = taylor( f, *inter, iter = iter + 1, maxiter = maxiter)\n",
        "  \n",
        "  # I can return more that ono value \n",
        "  return (x, iter)\n",
        "\n",
        "(x, iter) = taylor( \n",
        "  lambda x: x**2 - 2, \n",
        "  a, b \n",
        ")\n",
        "\n",
        "# format string 'f'\n",
        "print( f\"solution is {x} obtained in {iter} iterations\" )"
      ],
      "metadata": {
        "colab": {
          "base_uri": "https://localhost:8080/"
        },
        "id": "4UVsvTVxlJUh",
        "outputId": "bb3f37fc-85a0-41f8-ab57-3158101a2868"
      },
      "execution_count": null,
      "outputs": [
        {
          "output_type": "stream",
          "name": "stdout",
          "text": [
            "solution is -5.354330708661418 obtained in 101 iterations\n"
          ]
        }
      ]
    },
    {
      "cell_type": "code",
      "source": [
        "# exceptions \n",
        "# error handling \n",
        "def read_number(iter=1): \n",
        "  numstr = input( \"give me a number \" )\n",
        "\n",
        "  try:\n",
        "    num = int( numstr ) \n",
        "      \n",
        "  except: \n",
        "    print( f\"{numstr} is not a valid number (is a {type(numstr)})\" )\n",
        "    \n",
        "    if iter < 2: \n",
        "      num = read_number( iter + 1 )\n",
        "\n",
        "    else: \n",
        "      raise( \"enough!!\" )\n",
        "  return num\n",
        "\n",
        "\n",
        "\n",
        "# final user \n",
        "\n",
        "num = read_number()\n",
        "print( f\"the number is {num} of type\", type(num) )"
      ],
      "metadata": {
        "colab": {
          "base_uri": "https://localhost:8080/"
        },
        "id": "NDxK-LBP5JO9",
        "outputId": "96f81b8e-6a3b-48ff-be24-6d16434ddb69"
      },
      "execution_count": null,
      "outputs": [
        {
          "output_type": "stream",
          "name": "stdout",
          "text": [
            "give me a number 22\n",
            "the number is 22 of type <class 'int'>\n"
          ]
        }
      ]
    },
    {
      "cell_type": "code",
      "source": [
        "def myint(string): \n",
        "  try: \n",
        "     num = int( string ) \n",
        "  except: \n",
        "    num = None\n",
        "  return num\n",
        "\n",
        "# exceptions \n",
        "# error handling \n",
        "def read_number(iter=1): \n",
        "  numstr = input( \"give me a number \" )\n",
        "\n",
        "  num = myint( numstr ) \n",
        "  if num is None: \n",
        "    print( f\"{numstr} is not a valid number (is a {type(numstr)})\" )\n",
        "    \n",
        "    if iter < 2:\n",
        "      num = read_number( iter + 1 )   \n",
        "  return num\n",
        "\n",
        "\n",
        "num = read_number()\n",
        "if num is None: \n",
        "  print( \"stupid user\" )"
      ],
      "metadata": {
        "colab": {
          "base_uri": "https://localhost:8080/"
        },
        "id": "NGoeC-HS4PyK",
        "outputId": "259a9b2a-a909-4a52-aa82-8ddca36ea06b"
      },
      "execution_count": null,
      "outputs": [
        {
          "name": "stdout",
          "output_type": "stream",
          "text": [
            "give me a number 22\n"
          ]
        }
      ]
    },
    {
      "cell_type": "code",
      "source": [
        "# collections \n",
        "\n",
        "# list: a squence of objects of the same type (better)\n",
        "# mutable \n",
        "numbers = [ 1, 2, 3 ]\n",
        "\n",
        "for num in range( 12, 15 ): \n",
        "  numbers.append( num )\n",
        "  numbers.insert( num, 3 )\n",
        "\n",
        "# indeces start at 0\n",
        "print( numbers, \"element: 2\", numbers[ 1 ] )\n",
        "\n",
        "nums13 = numbers[ 1 : 3 ]\n",
        "print( \"nums13\", nums13 )\n",
        "\n",
        "last = numbers.pop()\n",
        "print( \"last:\", last )\n",
        "\n",
        "print( numbers )\n",
        "\n",
        "def fornumber(number):\n",
        "  print( 'number:', number )\n",
        "\n",
        "def forstring(string): \n",
        "  print( 'string:', string  ) \n",
        "\n",
        "for num in numbers: \n",
        "  if type(num) is int: \n",
        "    fornumber( num )\n",
        "  else: \n",
        "    forstring( num ) \n",
        "\n",
        "\n",
        "# tuple immutable\n",
        "a = ( 2, 3, 'me' )\n",
        "print( a ) \n",
        "\n",
        "#a.append( 4 )\n",
        "#a += 4\n",
        "\n",
        "\n",
        "# dict \n",
        "dct = dict()\n",
        "\n",
        "# key is \"HASHable\" <-> immutable \n",
        "# dct[ key ] = value (whatever)\n",
        "dct[ 'name' ] = 'matteo' \n",
        "dct[ 'surname' ] = 'barnaba'\n",
        "print( dct )\n",
        "\n",
        "# traversing (unpacking and returning more than one value)\n",
        "print( \"traversing dct\" )\n",
        "for (key, val) in dct.items(): \n",
        "  print( key, val ) \n",
        "\n",
        "for key in dct.keys(): \n",
        "  print( key, dct[ key ] )\n",
        "\n",
        "\n",
        "# retrieve O(1), hash eval\n",
        "print( dct[ 'name' ] )\n",
        "\n",
        "\n",
        "# (lon, lat)\n",
        "key = ( 13, 45 )\n",
        "#insert \n",
        "pga = dict()\n",
        "pga[ key ] = 458 \n",
        "\n",
        "print( pga )\n",
        "\n",
        "\n",
        "# complexity O( len(pgas) )\n",
        "pgas = [ ( (13, 45), 450 ), ( (13, 46), 584 ) ]\n",
        "for pga in pgas: \n",
        "  ( (lon, lat), pgaval ) = pga\n",
        "  if (lon, lat) == (13, 45): \n",
        "    print( pga )\n",
        "\n",
        "# set, collection with no repetition\n",
        "snumbers = set( numbers ) \n",
        "print( snumbers )"
      ],
      "metadata": {
        "id": "8uYz8L8G_snF",
        "colab": {
          "base_uri": "https://localhost:8080/"
        },
        "outputId": "fbb53805-2e4b-4010-aa06-53a32bc5de3e"
      },
      "execution_count": null,
      "outputs": [
        {
          "output_type": "stream",
          "name": "stdout",
          "text": [
            "[1, 2, 3, 12, 3, 13, 3, 14, 3] element: 2 2\n",
            "nums13 [2, 3]\n",
            "last: 3\n",
            "[1, 2, 3, 12, 3, 13, 3, 14]\n",
            "number: 1\n",
            "number: 2\n",
            "number: 3\n",
            "number: 12\n",
            "number: 3\n",
            "number: 13\n",
            "number: 3\n",
            "number: 14\n",
            "(2, 3, 'me')\n",
            "{'name': 'matteo', 'surname': 'barnaba'}\n",
            "traversing dct\n",
            "name matteo\n",
            "surname barnaba\n",
            "name matteo\n",
            "surname barnaba\n",
            "matteo\n",
            "{(13, 45): 458}\n",
            "((13, 45), 450)\n",
            "{1, 2, 3, 12, 13, 14}\n"
          ]
        }
      ]
    },
    {
      "cell_type": "code",
      "source": [
        "def sum(tokens): \n",
        "  num = float( tokens[ 0 ] ) + float( tokens[ 2 ] )\n",
        "  return num\n",
        "\n",
        "def sub(tokens):\n",
        "  num = float( tokens[ 0 ] ) - float( tokens[ 2 ] )\n",
        "  return num\n",
        "\n",
        "functions = {\n",
        "  '+': sum,\n",
        "  '-': sub\n",
        "}\n",
        "\n",
        "def string2tokens(string): \n",
        "  tokens = string.split()\n",
        "  return tokens\n",
        "\n",
        "def tokens2number(tokens):\n",
        "  idx = 1\n",
        "\n",
        "  operator = tokens[ idx ]\n",
        "\n",
        "  function = functions[ operator ]\n",
        "  number = function( tokens )\n",
        "\n",
        "  print( f\"tokens: {tokens}, operator: {operator}, partial: {number}\" )\n",
        "\n",
        "  # remove idx-1 e idx from tokens \n",
        "  tokens = tokens[ idx + 1 : ]\n",
        "\n",
        "  # replace 0 with num \n",
        "  tokens[ 0 ] = number\n",
        "\n",
        "  if len( tokens ) > 1:\n",
        "    number = tokens2number( tokens ) \n",
        "  \n",
        "  else:\n",
        "    number = float( tokens[0] )\n",
        "  return number \n",
        "\n",
        "\n",
        "def calculator(string):\n",
        "  tokens = string2tokens( string )\n",
        "  number = tokens2number( tokens )\n",
        "  return number\n",
        "\n",
        "string = \"12 + 5 - 4 + 23 - 98 + 78 - 97 + 36 - 78 + 17\"\n",
        "number = calculator( string )\n",
        "print( f\"result: {number}\" )"
      ],
      "metadata": {
        "colab": {
          "base_uri": "https://localhost:8080/"
        },
        "id": "sJHKzQkCTk1z",
        "outputId": "62f319b6-5a7c-4c8d-bcc4-680b9db4a50f"
      },
      "execution_count": null,
      "outputs": [
        {
          "output_type": "stream",
          "name": "stdout",
          "text": [
            "tokens: ['12', '+', '5', '-', '4', '+', '23', '-', '98', '+', '78', '-', '97', '+', '36', '-', '78', '+', '17'], operator: +, partial: 17.0\n",
            "tokens: [17.0, '-', '4', '+', '23', '-', '98', '+', '78', '-', '97', '+', '36', '-', '78', '+', '17'], operator: -, partial: 13.0\n",
            "tokens: [13.0, '+', '23', '-', '98', '+', '78', '-', '97', '+', '36', '-', '78', '+', '17'], operator: +, partial: 36.0\n",
            "tokens: [36.0, '-', '98', '+', '78', '-', '97', '+', '36', '-', '78', '+', '17'], operator: -, partial: -62.0\n",
            "tokens: [-62.0, '+', '78', '-', '97', '+', '36', '-', '78', '+', '17'], operator: +, partial: 16.0\n",
            "tokens: [16.0, '-', '97', '+', '36', '-', '78', '+', '17'], operator: -, partial: -81.0\n",
            "tokens: [-81.0, '+', '36', '-', '78', '+', '17'], operator: +, partial: -45.0\n",
            "tokens: [-45.0, '-', '78', '+', '17'], operator: -, partial: -123.0\n",
            "tokens: [-123.0, '+', '17'], operator: +, partial: -106.0\n",
            "result: -106.0\n"
          ]
        }
      ]
    },
    {
      "cell_type": "code",
      "source": [
        "# Stefano "
      ],
      "metadata": {
        "id": "_pHzg1N4Zm2b"
      },
      "execution_count": null,
      "outputs": []
    },
    {
      "cell_type": "code",
      "source": [
        "# modules \n",
        "\n",
        "import sys\n",
        "\n",
        "\n",
        "dir( sys )\n",
        "sys.getrecursionlimit()\n",
        "sys.setrecursionlimit( 2 * sys.getrecursionlimit() )\n",
        "sys.getrecursionlimit()"
      ],
      "metadata": {
        "colab": {
          "base_uri": "https://localhost:8080/"
        },
        "id": "yLzlf4HVeszA",
        "outputId": "f8b95967-4c8e-456c-bbbb-a22b4702512b"
      },
      "execution_count": null,
      "outputs": [
        {
          "output_type": "execute_result",
          "data": {
            "text/plain": [
              "2000"
            ]
          },
          "metadata": {},
          "execution_count": 12
        }
      ]
    },
    {
      "cell_type": "code",
      "source": [
        "from matplotlib import pyplot as plt "
      ],
      "metadata": {
        "id": "7Xhe-f4cjqm0"
      },
      "execution_count": null,
      "outputs": []
    },
    {
      "cell_type": "code",
      "source": [
        "# x = list()\n",
        "# for i in range(i): \n",
        "#   x.append()\n",
        "\n",
        "\n",
        "\n",
        "a = 0\n",
        "b = 5\n",
        "n = 100\n",
        "\n",
        "x = [ i * (b - a) / n for i in range(n) ]\n",
        "\n",
        "dct = {\n",
        "  'x' : x, \n",
        "  'y1' : [ x[ i ] **2 for i in range( len(x) ) ],\n",
        "  'y2' : [ x[ i ] **3 for i in range(len(x) ) ]  \n",
        "}\n",
        "\n",
        "\n",
        "(fig, ax) = plt.subplots()\n",
        "\n",
        "for yname in ( 'y1', 'y2' ): \n",
        "  x = dct[ 'x' ]\n",
        "  y = dct[ yname ]\n",
        "  ax.plot( x, y, label = yname )\n",
        "\n",
        "  ax.set_xlabel( 'velocity ($m/s$)' )\n",
        "  \n",
        "  ax.set_ylabel( '$\\sum a_i$' )\n",
        "\n",
        "ax.set_yscale( 'log' )\n",
        "\n",
        "ax.legend()\n",
        "ax.grid()\n",
        "fig.savefig( 'test.svg' )"
      ],
      "metadata": {
        "colab": {
          "base_uri": "https://localhost:8080/",
          "height": 283
        },
        "id": "gAMbosZ5kMx9",
        "outputId": "34ac3439-b33b-4b4e-c34e-bbfb69985106"
      },
      "execution_count": null,
      "outputs": [
        {
          "output_type": "display_data",
          "data": {
            "text/plain": [
              "<Figure size 432x288 with 1 Axes>"
            ],
            "image/png": "[encoded data removed]"
          },
          "metadata": {
            "needs_background": "light"
          }
        }
      ]
    },
    {
      "cell_type": "code",
      "source": [
        "# decorators \n",
        "\n",
        "# decorators \n",
        "def debug(f):\n",
        "  # nested function \n",
        "  def inner(*args, **kwargs): \n",
        "    res = f( *args, **kwargs )\n",
        "    # introspection  \n",
        "    print( f.__name__, 'called with', args, 'and', kwargs, 'returned', res )\n",
        "    return res\n",
        "  return inner\n",
        "\n",
        "\n",
        "def div(a, b): \n",
        "  return a/b\n",
        "\n",
        "# syntactic sugar, same as line 28\n",
        "@debug\n",
        "def function2(a, b, operation=None): \n",
        "  if operation is None: \n",
        "    res = a + b\n",
        "  else: \n",
        "    res = operation( a, b )\n",
        "  return res\n",
        "\n",
        "# long and ugly\n",
        "dfunction = debug( function2 )\n",
        "\n",
        "function2( 12, 78, operation = div )"
      ],
      "metadata": {
        "id": "Ra2M5eaLk11x",
        "colab": {
          "base_uri": "https://localhost:8080/"
        },
        "outputId": "bf115108-5ab3-4cd5-87e1-5d5bfffc2a68"
      },
      "execution_count": null,
      "outputs": [
        {
          "output_type": "stream",
          "name": "stdout",
          "text": [
            "function2 called with (12, 78) and {'operation': <function div at 0x7f58650590e0>} returned 0.15384615384615385\n"
          ]
        },
        {
          "output_type": "execute_result",
          "data": {
            "text/plain": [
              "0.15384615384615385"
            ]
          },
          "metadata": {},
          "execution_count": 17
        }
      ]
    },
    {
      "cell_type": "code",
      "source": [
        "#  OO\n",
        "\n",
        "# a vector in 2D\n",
        "class Vector: \n",
        "  # dunders: double underscores or special methods (duck typing)   \n",
        "  # method\n",
        "  # default constructor (usable state)\n",
        "  def __init__(self, x, y):\n",
        "    self.__x = x\n",
        "    self.__y = y\n",
        "    return None\n",
        "\n",
        "  @property\n",
        "  def x(self): \n",
        "    return self.__x\n",
        "\n",
        "  @property\n",
        "  def y(self): \n",
        "    return self.__y\n",
        "  \n",
        "\n",
        "  def __repr__(self): \n",
        "    return f'({self.x}, {self.y})'\n",
        "\n",
        "  # right hand side \n",
        "  def __add__(self, rhs):\n",
        "    x = self.x + rhs.x\n",
        "    y = self.y + rhs.y\n",
        "    return Vector( x, y )\n",
        "\n",
        "  def __sub__(self, rhs):\n",
        "    return self + rhs.scale( -1 )\n",
        "  \n",
        "  def __hash__(self): \n",
        "    return hash( (self.x, self.y) )\n",
        "\n",
        "\n",
        "  def scale(self, factor): \n",
        "    x = self.x * factor\n",
        "    y = self.y * factor\n",
        "    return Vector( x, y ) \n",
        "\n",
        "  def angle(self, other): \n",
        "    import math \n",
        "\n",
        "    angle = math.acos( self.x / self.mod() )\n",
        "    return angle\n",
        "\n",
        "  def mod(self): \n",
        "    mod = ( self.x**2 + self.y**2 )**0.5\n",
        "    return mod\n",
        "\n",
        "\n",
        "# v1 is an istance of the class Vector\n",
        "'''\n",
        "v1 = Vector( 1, 2 )\n",
        "v1.__x = 15\n",
        "#v2 = Vector( 2, 4 )\n",
        "\n",
        "print( v1 )\n",
        "print( v2 )\n",
        "\n",
        "v3 = v1 - v2\n",
        "v4 = v3 + v1\n",
        "print( v3, v4 )\n",
        "'''\n",
        "\n",
        "v1 = Vector( 1, 2 )\n",
        "#v1.x = 15\n",
        "print( v1 )"
      ],
      "metadata": {
        "colab": {
          "base_uri": "https://localhost:8080/"
        },
        "id": "IFDHZdDjfv7b",
        "outputId": "f0cc74ca-4109-4288-d294-0682be93e642"
      },
      "execution_count": null,
      "outputs": [
        {
          "output_type": "stream",
          "name": "stdout",
          "text": [
            "(1, 2)\n"
          ]
        }
      ]
    },
    {
      "cell_type": "code",
      "source": [
        "# reuse code \n",
        "\n",
        "\n",
        "# free functions (not methods)\n",
        "def polar2cart(d, angle):\n",
        "  from math import sin, cos, radians  \n",
        "  \n",
        "  x = d * cos( radians(angle) )\n",
        "  y = d * sin( radians(angle) )\n",
        "  return (x, y)\n",
        "\n",
        "\n",
        "# inheritance (code reuse)\n",
        "# Vector is the base class <-> Point extends (Point can do everything Vector can + more) Vector, (derivated class)\n",
        "class Point( Vector ): \n",
        "  def __init__(self, x, y, d, anglex):\n",
        "    Vector.__init__( self, x, y )\n",
        "\n",
        "    self.__d = d\n",
        "    self.__angle = anglex  \n",
        "    return None\n",
        "\n",
        "  # custom constructor\n",
        "  # class maintains its own invariants, not our problem anymore \n",
        "  @classmethod\n",
        "  def from_cartesian(cls, x, y): \n",
        "    v = Vector( x, y )\n",
        "    vx = Vector( 1, 0 )\n",
        "    angle = v.angle( vx )\n",
        "    d = v.mod()\n",
        "    \n",
        "    self = cls( x, y, d, angle )\n",
        "    return self\n",
        "\n",
        "  @classmethod\n",
        "  def from_polar(cls, d, anglex):\n",
        "    (x, y) = polar2cart( d, anglex ) \n",
        "    self = cls( x, y, d, anglex )\n",
        "    return self  \n",
        "\n",
        "  def __repr__(self): \n",
        "    string = f'cartesian: {Vector.__repr__(self)}, polar: ({self.d}, {self.angle})'\n",
        "    return string\n",
        "\n",
        "  @property\n",
        "  def d(self): \n",
        "    return self.__d\n",
        "  \n",
        "  @property\n",
        "  def angle(self): \n",
        "    return self.__angle\n",
        "\n",
        "  def move(self, x, y): \n",
        "    return Point.from_cartesian( self.x + x, self.y + y )\n",
        "\n",
        "  def __call__(self, *args, **kwargs): \n",
        "    print( args, kwargs )\n",
        "    return None \n",
        "\n",
        "\n",
        "\n",
        "\n",
        "\n",
        "p1 = Point.from_cartesian( 1, 2 )\n",
        "p2 = Point.from_polar( 5, 60 ) \n",
        "print( p1 )\n",
        "print( p2 )\n",
        "\n",
        "p3 = p1.move( 1, 1 )\n",
        "print( p3 )\n",
        "\n",
        "p3( v = 12 )"
      ],
      "metadata": {
        "colab": {
          "base_uri": "https://localhost:8080/"
        },
        "id": "TVaVBrXSk3Dv",
        "outputId": "dc1b9e05-b269-4ad8-fe4e-54978d87e45f"
      },
      "execution_count": null,
      "outputs": [
        {
          "output_type": "stream",
          "name": "stdout",
          "text": [
            "cartesian: (1, 2), polar: (2.23606797749979, 1.1071487177940904)\n",
            "cartesian: (2.5000000000000004, 4.330127018922193), polar: (5, 60)\n",
            "cartesian: (2, 3), polar: (3.605551275463989, 0.982793723247329)\n",
            "() {'v': 12}\n"
          ]
        }
      ]
    },
    {
      "cell_type": "code",
      "source": [
        "# immutable objects are hashable. \n",
        "pgas = {\n",
        "  p1: 458, p2: 861\n",
        "}"
      ],
      "metadata": {
        "id": "lEluWxEcscZG"
      },
      "execution_count": null,
      "outputs": []
    },
    {
      "cell_type": "code",
      "source": [
        "import numpy as np\n",
        "\n",
        "# example: function approximation \n",
        "# f(x)'' = -kf(x) \n",
        "# f(x) = sum ci fi(x) (base functions) c F = b \n",
        "# ci s.t. yi = f( xi )\n",
        "\n",
        "def function(x):\n",
        "  y = np.cos( x )\n",
        "\n",
        "  '''\n",
        "  y = list())\n",
        "  for xi in x:  \n",
        "    y.append( math.cos( xi ) )\n",
        "  '''\n",
        "  return y  \n",
        "\n",
        "\n",
        "# Functor (callable object, method __call__)\n",
        "# more similar to a lambda than a function \n",
        "class BaseFunction:\n",
        "  def __init__(self, exp): \n",
        "    self.exp = exp \n",
        "    return None \n",
        "\n",
        "  def __call__(self, x): \n",
        "    y = x**self.exp\n",
        "    return y\n",
        "\n",
        "\n",
        "def approximate(f, bases, a, b, nodesfunc=None, nodes=None): \n",
        "  # f(x) approx sum ci basesi\n",
        "  # unknown is ci, know vector must be passed (b.c.)  \n",
        "\n",
        "  # not optimal points\n",
        "  if nodes is None: \n",
        "    if nodesfunc is None: \n",
        "      points = np.linspace( a, b, len(bases) )\n",
        "    else: \n",
        "      points = nodesfunc( a, b, len(bases) )\n",
        "  \n",
        "  else: \n",
        "    points = nodes\n",
        "\n",
        "  # known part \n",
        "  b = [ f( x ) for x in  points ]\n",
        "  A = np.zeros( (len(bases), len(bases)) )\n",
        "\n",
        "  for l in range( len(bases) ): \n",
        "    for c in range( len(bases) ): \n",
        "      A[ l ][ c ] = bases[ c ]( points[ l ] )\n",
        "\n",
        "  #print( A )\n",
        "\n",
        "  c = np.linalg.solve( A, b )\n",
        "  #print( c )\n",
        "\n",
        "  def afunction(x): \n",
        "    y = 0\n",
        "    for idx in range( len(bases) ): \n",
        "      y += c[ idx ] * bases[ idx ]( x )\n",
        "    return y\n",
        "\n",
        "  return afunction"
      ],
      "metadata": {
        "id": "dc7z66cFyKyE"
      },
      "execution_count": null,
      "outputs": []
    },
    {
      "cell_type": "code",
      "source": [
        "bases = list()\n",
        "for exp in range( 6 ): \n",
        "  base = BaseFunction( exp )\n",
        "  bases.append( base )\n",
        "\n",
        "a = 0 \n",
        "b = 5\n",
        "afunction = approximate( function, bases, a, b )\n",
        "\n",
        "\n",
        "from matplotlib import pyplot as plt \n",
        "\n",
        "(fig, ax) = plt.subplots()\n",
        "\n",
        "x = np.linspace( a, b, 100 )\n",
        "\n",
        "# it works!!!\n",
        "exact = function( x ) \n",
        "approx = afunction( x )\n",
        "\n",
        "ax.legend()\n",
        "ax.grid()\n",
        "ax.plot( x, exact, label = 'exact' )\n",
        "ax.plot( x, approx, label = 'approx' )\n",
        "\n",
        "fig.savefig( 'approx.svg' )"
      ],
      "metadata": {
        "colab": {
          "base_uri": "https://localhost:8080/",
          "height": 282
        },
        "id": "BlTA7mMVkUVG",
        "outputId": "8a488dfc-0fee-496a-d409-6f56829e2e6b"
      },
      "execution_count": null,
      "outputs": [
        {
          "output_type": "stream",
          "name": "stderr",
          "text": [
            "No handles with labels found to put in legend.\n"
          ]
        },
        {
          "output_type": "display_data",
          "data": {
            "text/plain": [
              "<Figure size 432x288 with 1 Axes>"
            ],
            "image/png": "[encoded data removed]"
          },
          "metadata": {
            "needs_background": "light"
          }
        }
      ]
    },
    {
      "cell_type": "code",
      "source": [
        "# another function \n",
        "\n",
        "def error(exact, approx): \n",
        "  err = max( abs(exact - approx) )\n",
        "  return err\n",
        "\n",
        "def runge(x):\n",
        "  y = 1 / (1 + 25 * x**2)\n",
        "  return y \n",
        "\n",
        "bases = list()\n",
        "for exp in range( 15 ): \n",
        "  base = BaseFunction( exp )\n",
        "  bases.append( base )\n",
        "\n",
        "a = -1 \n",
        "b = 1\n",
        "afunction = approximate( runge, bases, a, b )\n",
        "\n",
        "from matplotlib import pyplot as plt \n",
        "\n",
        "(fig, ax) = plt.subplots()\n",
        "\n",
        "x = np.linspace( a, b, 100 )\n",
        "\n",
        "# it works!!!\n",
        "exact = runge( x ) \n",
        "approx = afunction( x )\n",
        "\n",
        "err = error( exact, approx )\n",
        "print( 'error', err ) \n",
        "\n",
        "ax.legend()\n",
        "ax.grid()\n",
        "ax.plot( x, exact, label = 'exact' )\n",
        "ax.plot( x, approx, label = 'approx' )\n",
        "\n",
        "fig.savefig( 'approx.svg' )"
      ],
      "metadata": {
        "id": "UvUrLN46BdXC",
        "colab": {
          "base_uri": "https://localhost:8080/",
          "height": 300
        },
        "outputId": "818346ed-53a0-49df-fd86-f341cca592ec"
      },
      "execution_count": null,
      "outputs": [
        {
          "output_type": "stream",
          "name": "stderr",
          "text": [
            "No handles with labels found to put in legend.\n"
          ]
        },
        {
          "output_type": "stream",
          "name": "stdout",
          "text": [
            "error 7.189298472104067\n"
          ]
        },
        {
          "output_type": "display_data",
          "data": {
            "text/plain": [
              "<Figure size 432x288 with 1 Axes>"
            ],
            "image/png": "[encoded data removed]"
          },
          "metadata": {
            "needs_background": "light"
          }
        }
      ]
    },
    {
      "cell_type": "code",
      "source": [
        "# chebyschev https://en.wikipedia.org/wiki/Chebyshev_nodes\n",
        "\n",
        "def nodes_cheb(a, b, n): \n",
        "  import math\n",
        "\n",
        "  nodes = np.zeros( n )\n",
        "  for k in range( 1, n + 1 ): \n",
        "    node = 0.5 * (a + b) + 0.5 * (b - a) * np.cos( (2 * k - 1) / (2 * n) * math.pi )\n",
        "    nodes[ k - 1 ] = node\n",
        "  return nodes\n",
        "\n",
        "a = -1 \n",
        "b = 1\n",
        "afunction = approximate( runge, bases, a, b, nodesfunc = nodes_cheb )\n",
        "\n",
        "from matplotlib import pyplot as plt \n",
        "\n",
        "(fig, ax) = plt.subplots()\n",
        "\n",
        "x = np.linspace( a, b, 100 )\n",
        "\n",
        "# it works!!!\n",
        "exact = runge( x ) \n",
        "approx = afunction( x )\n",
        "\n",
        "\n",
        "err = error( exact, approx )\n",
        "print( 'error', err )\n",
        "\n",
        "ax.legend()\n",
        "ax.grid()\n",
        "ax.plot( x, exact, label = 'exact' )\n",
        "ax.plot( x, approx, label = 'approx' )\n",
        "\n",
        "fig.savefig( 'approx.svg' )"
      ],
      "metadata": {
        "colab": {
          "base_uri": "https://localhost:8080/",
          "height": 300
        },
        "id": "_JYNbVbWk3cB",
        "outputId": "108b8029-0071-40e9-b270-471abe907124"
      },
      "execution_count": null,
      "outputs": [
        {
          "output_type": "stream",
          "name": "stderr",
          "text": [
            "No handles with labels found to put in legend.\n"
          ]
        },
        {
          "output_type": "stream",
          "name": "stdout",
          "text": [
            "error 0.04608936896641749\n"
          ]
        },
        {
          "output_type": "display_data",
          "data": {
            "text/plain": [
              "<Figure size 432x288 with 1 Axes>"
            ],
            "image/png": "[encoded data removed]"
          },
          "metadata": {
            "needs_background": "light"
          }
        }
      ]
    },
    {
      "cell_type": "code",
      "source": [
        "# find best nodes for minizing the error in approximation \n",
        "from scipy import optimize \n",
        "\n",
        "# def approximate(f, bases, a, b, nodesfunc=None)\n",
        "\n",
        "def error_wrapper(nodes):\n",
        "  afunction = approximate( runge, bases, a, b, nodes = nodes ) \n",
        "\n",
        "  x = np.linspace( a, b, 100 )\n",
        "  approx = afunction( x )\n",
        "  exact = runge( x ) \n",
        "\n",
        "  err = error( exact, approx )\n",
        "  return err \n",
        "\n",
        "\n",
        "\n",
        "n = len( bases )\n",
        "nodes0 = np.linspace( a, b, n )\n",
        "\n",
        "solution = optimize.minimize( error_wrapper, nodes0 )"
      ],
      "metadata": {
        "id": "B17d7PTlmEFV"
      },
      "execution_count": null,
      "outputs": []
    },
    {
      "cell_type": "code",
      "source": [
        "print( solution )\n",
        "nodes = solution.x\n",
        "print( nodes )"
      ],
      "metadata": {
        "colab": {
          "base_uri": "https://localhost:8080/"
        },
        "id": "AgbXSJtcrWJ0",
        "outputId": "cbce4857-0d69-46c2-bbc0-91bc77a7ed72"
      },
      "execution_count": null,
      "outputs": [
        {
          "output_type": "stream",
          "name": "stdout",
          "text": [
            "      fun: 0.2397286788988838\n",
            " hess_inv: array([[ 5.37933743e-05,  4.26920422e-06, -1.26097122e-03,\n",
            "         3.19752700e-04,  6.30093980e-04,  7.69403697e-04,\n",
            "        -1.95119738e-05,  1.55322145e-04, -8.88011415e-04,\n",
            "        -3.09095405e-04,  3.54630800e-04, -1.02364385e-03,\n",
            "         1.04741326e-03,  1.52358836e-05, -5.65737311e-05],\n",
            "       [ 4.26920422e-06,  2.39694180e-03,  2.65161400e-03,\n",
            "         1.03651231e-02, -2.17210520e-02, -2.64642822e-03,\n",
            "         2.26974165e-06, -1.87752177e-05,  1.14931463e-03,\n",
            "         2.89263792e-02, -3.22346856e-02, -4.43342793e-02,\n",
            "         2.97787352e-02, -1.89751671e-05,  3.52803917e-05],\n",
            "       [-1.26097122e-03,  2.65161400e-03,  1.09335676e-01,\n",
            "        -1.27844792e-01, -1.59535654e-01,  8.00061701e-02,\n",
            "        -2.69118312e-03,  2.13418922e-02, -1.11450066e-01,\n",
            "         2.46295056e-01, -2.69000749e-01, -2.80271123e-01,\n",
            "         2.68003339e-01, -1.05359310e-04,  1.41033046e-03],\n",
            "       [ 3.19752700e-04,  1.03651231e-02, -1.27844792e-01,\n",
            "         3.51268401e-01,  1.90126305e-02, -1.74537803e-01,\n",
            "         5.02631390e-03, -3.98708018e-02,  2.18476144e-01,\n",
            "        -1.77698838e-01,  2.63277071e-01,  5.28199767e-02,\n",
            "        -2.25998020e-01,  4.81417764e-04, -8.01233063e-04],\n",
            "       [ 6.30093980e-04, -2.17210520e-02, -1.59535654e-01,\n",
            "         1.90126305e-02,  7.31146626e-01, -2.99053509e-01,\n",
            "         9.76879016e-03, -7.75595592e-02,  4.08433415e-01,\n",
            "        -8.00986193e-01,  5.94171070e-01,  1.34025927e+00,\n",
            "        -9.82140012e-01, -2.72841233e-03,  4.86045657e-04],\n",
            "       [ 7.69403697e-04, -2.64642822e-03,  8.00061701e-02,\n",
            "        -1.74537803e-01, -2.99053509e-01,  2.86011557e-01,\n",
            "        -8.25715584e-03,  6.55580231e-02, -3.58824605e-01,\n",
            "         3.02043865e-01, -1.35417231e-01, -4.55859405e-01,\n",
            "         3.98976662e-01,  1.31995463e-03, -1.27917778e-03],\n",
            "       [-1.95119738e-05,  2.26974165e-06, -2.69118312e-03,\n",
            "         5.02631390e-03,  9.76879016e-03, -8.25715584e-03,\n",
            "         2.43847184e-04, -1.93592367e-03,  1.05188953e-02,\n",
            "        -1.10533414e-02,  7.03928207e-03,  1.70657931e-02,\n",
            "        -1.47259716e-02, -4.54799286e-05,  3.73431934e-05],\n",
            "       [ 1.55322145e-04, -1.87752178e-05,  2.13418922e-02,\n",
            "        -3.98708018e-02, -7.75595592e-02,  6.55580231e-02,\n",
            "        -1.93592367e-03,  1.53700814e-02, -8.35145587e-02,\n",
            "         8.77491055e-02, -5.58631995e-02, -1.35552310e-01,\n",
            "         1.16946405e-01,  3.61632689e-04, -2.97099012e-04],\n",
            "       [-8.88011415e-04,  1.14931463e-03, -1.11450066e-01,\n",
            "         2.18476144e-01,  4.08433415e-01, -3.58824605e-01,\n",
            "         1.05188953e-02, -8.35145587e-02,  4.54849674e-01,\n",
            "        -4.47278398e-01,  2.61530718e-01,  6.86539421e-01,\n",
            "        -5.94643513e-01, -1.87403547e-03,  1.61950616e-03],\n",
            "       [-3.09095405e-04,  2.89263792e-02,  2.46295056e-01,\n",
            "        -1.77698838e-01, -8.00986193e-01,  3.02043865e-01,\n",
            "        -1.10533414e-02,  8.77491055e-02, -4.47278398e-01,\n",
            "         1.31793962e+00, -1.48348935e+00, -2.15644766e+00,\n",
            "         1.79702036e+00,  4.58171907e-03, -1.57276746e-03],\n",
            "       [ 3.54630800e-04, -3.22346856e-02, -2.69000749e-01,\n",
            "         2.63277071e-01,  5.94171070e-01, -1.35417231e-01,\n",
            "         7.03928207e-03, -5.58631995e-02,  2.61530718e-01,\n",
            "        -1.48348935e+00,  2.08525234e+00,  2.36046282e+00,\n",
            "        -2.11610145e+00, -5.01261034e-03,  1.66022236e-03],\n",
            "       [-1.02364385e-03, -4.43342793e-02, -2.80271123e-01,\n",
            "         5.28199767e-02,  1.34025927e+00, -4.55859405e-01,\n",
            "         1.70657931e-02, -1.35552310e-01,  6.86539421e-01,\n",
            "        -2.15644766e+00,  2.36046282e+00,  3.97325977e+00,\n",
            "        -3.17687138e+00, -1.06017431e-02,  5.49018192e-03],\n",
            "       [ 1.04741326e-03,  2.97787352e-02,  2.68003339e-01,\n",
            "        -2.25998020e-01, -9.82140012e-01,  3.98976662e-01,\n",
            "        -1.47259716e-02,  1.16946405e-01, -5.94643513e-01,\n",
            "         1.79702036e+00, -2.11610145e+00, -3.17687138e+00,\n",
            "         2.67541227e+00,  8.37931469e-03, -4.25878831e-03],\n",
            "       [ 1.52358836e-05, -1.89751671e-05, -1.05359310e-04,\n",
            "         4.81417764e-04, -2.72841233e-03,  1.31995463e-03,\n",
            "        -4.54799286e-05,  3.61632689e-04, -1.87403547e-03,\n",
            "         4.58171907e-03, -5.01261034e-03, -1.06017431e-02,\n",
            "         8.37931469e-03,  1.47244516e-04, -3.15250854e-05],\n",
            "       [-5.65737311e-05,  3.52803917e-05,  1.41033046e-03,\n",
            "        -8.01233063e-04,  4.86045657e-04, -1.27917778e-03,\n",
            "         3.73431934e-05, -2.97099012e-04,  1.61950616e-03,\n",
            "        -1.57276746e-03,  1.66022236e-03,  5.49018192e-03,\n",
            "        -4.25878831e-03, -3.15250854e-05,  1.23903697e-04]])\n",
            "      jac: array([-2.91061401e-03, -4.25720215e-03, -4.50057983e-02, -1.18228912e-01,\n",
            "       -2.73513794e-01, -5.70308685e-01, -2.54656982e+00, -2.72824478e+00,\n",
            "       -1.89601517e+00, -2.01827621e+00, -1.28108978e+00, -1.41035843e+00,\n",
            "       -1.28619766e+00, -4.56831360e+00,  1.32335777e+01])\n",
            "  message: 'Desired error not necessarily achieved due to precision loss.'\n",
            "     nfev: 3541\n",
            "      nit: 15\n",
            "     njev: 208\n",
            "   status: 2\n",
            "  success: False\n",
            "        x: array([-1.00604415, -0.96814773, -0.70146956, -0.53829996, -0.40064049,\n",
            "       -0.28811365, -0.06130121,  0.148882  ,  0.27851346,  0.25495168,\n",
            "        0.55325319,  0.70825105,  0.6137763 ,  0.92258162,  0.99745681])\n",
            "[-1.00604415 -0.96814773 -0.70146956 -0.53829996 -0.40064049 -0.28811365\n",
            " -0.06130121  0.148882    0.27851346  0.25495168  0.55325319  0.70825105\n",
            "  0.6137763   0.92258162  0.99745681]\n"
          ]
        }
      ]
    },
    {
      "cell_type": "code",
      "source": [
        "cnodes = nodes_cheb( a, b, len(bases) )\n",
        "print( cnodes )"
      ],
      "metadata": {
        "colab": {
          "base_uri": "https://localhost:8080/"
        },
        "id": "lpPCdDrMr7XU",
        "outputId": "308a0eb1-3244-4b13-85d8-dde5d6f55ff6"
      },
      "execution_count": null,
      "outputs": [
        {
          "output_type": "stream",
          "name": "stdout",
          "text": [
            "[ 9.94521895e-01  9.51056516e-01  8.66025404e-01  7.43144825e-01\n",
            "  5.87785252e-01  4.06736643e-01  2.07911691e-01  6.12323400e-17\n",
            " -2.07911691e-01 -4.06736643e-01 -5.87785252e-01 -7.43144825e-01\n",
            " -8.66025404e-01 -9.51056516e-01 -9.94521895e-01]\n"
          ]
        }
      ]
    },
    {
      "cell_type": "code",
      "source": [
        "(fig, ax) = plt.subplots()\n",
        "\n",
        "# it works!!!\n",
        "exact = runge( x ) \n",
        "\n",
        "cnode = nodes_cheb( a, b, len(bases) )\n",
        "afc = approximate( runge, bases, a, b, nodes = cnodes ) # cheb \n",
        "approxc = afc( x )\n",
        "\n",
        "onodes = solution.x\n",
        "afo = approximate( runge, bases, a, b, nodes = onodes ) # minimize\n",
        "approxo = afo( x )\n",
        "\n",
        "err = error( exact, approx )\n",
        "print( 'error', err )\n",
        "\n",
        "ax.plot( x, exact, label = 'exact' )\n",
        "ax.plot( x, approxc, label = 'cheb' )\n",
        "ax.plot( x, approxo, label = 'minimize' )\n",
        "\n",
        "ax.legend()\n",
        "ax.grid()\n",
        "fig.savefig( 'approx.svg' )"
      ],
      "metadata": {
        "colab": {
          "base_uri": "https://localhost:8080/",
          "height": 282
        },
        "id": "bTT29B7BsaBw",
        "outputId": "cea3ad40-f5d4-4430-bffa-c2c6022c28b1"
      },
      "execution_count": null,
      "outputs": [
        {
          "output_type": "stream",
          "name": "stdout",
          "text": [
            "error 0.04608936896641749\n"
          ]
        },
        {
          "output_type": "display_data",
          "data": {
            "text/plain": [
              "<Figure size 432x288 with 1 Axes>"
            ],
            "image/png": "[encoded data removed]"
          },
          "metadata": {
            "needs_background": "light"
          }
        }
      ]
    },
    {
      "cell_type": "code",
      "source": [
        ""
      ],
      "metadata": {
        "id": "iOAcUPHXts5Z"
      },
      "execution_count": null,
      "outputs": []
    },
    {
      "cell_type": "code",
      "source": [
        "def minimize_test(method): \n",
        "  # find best nodes for minizing the error in approximation \n",
        "  from scipy import optimize \n",
        "\n",
        "  # def approximate(f, bases, a, b, nodesfunc=None)\n",
        "\n",
        "  def error_wrapper(nodes):\n",
        "    afunction = approximate( runge, bases, a, b, nodes = nodes ) \n",
        "\n",
        "    x = np.linspace( a, b, 100 )\n",
        "    approx = afunction( x )\n",
        "    exact = runge( x ) \n",
        "\n",
        "    err = error( exact, approx )\n",
        "    return err \n",
        "\n",
        "  n = len( bases )\n",
        "  nodes0 = np.linspace( a, b, n )\n",
        "\n",
        "  solution = optimize.minimize( error_wrapper, nodes0, method = method )\n",
        "  #print( solution )\n",
        "\n",
        "  (fig, ax) = plt.subplots()\n",
        "\n",
        "  # it works!!!\n",
        "  exact = runge( x ) \n",
        "\n",
        "  cnode = nodes_cheb( a, b, len(bases) )\n",
        "  afc = approximate( runge, bases, a, b, nodes = cnodes ) # cheb \n",
        "  approxc = afc( x )\n",
        "\n",
        "  onodes = solution.x\n",
        "  afo = approximate( runge, bases, a, b, nodes = onodes ) # minimize\n",
        "  approxo = afo( x )\n",
        "\n",
        "  err = error( exact, approxo )\n",
        "  print( f'error {method}', err )\n",
        "\n",
        "  ax.plot( x, exact, label = 'exact' )\n",
        "  ax.plot( x, approxc, label = 'cheb' )\n",
        "  ax.plot( x, approxo, label = 'minimize' )\n",
        "\n",
        "  ax.legend()\n",
        "  ax.grid()\n",
        "  ax.set_title( method )\n",
        "  fig.savefig( f'{method}.svg' )"
      ],
      "metadata": {
        "id": "t0uIsBXAw1Xj"
      },
      "execution_count": null,
      "outputs": []
    },
    {
      "cell_type": "code",
      "source": [
        "# cheb seems better that minimize, change the method!\n",
        "\n",
        "mstring = ''' \n",
        "Nelder-Mead (see here)\n",
        "Powell (see here)\n",
        "CG (see here)\n",
        "BFGS (see here)\n",
        "Newton-CG (see here)\n",
        "L-BFGS-B (see here)\n",
        "TNC (see here)\n",
        "COBYLA (see here)\n",
        "SLSQP (see here)\n",
        "trust-constr (see here)\n",
        "dogleg (see here)\n",
        "trust-ncg (see here)\n",
        "trust-exact (see here)\n",
        "trust-krylov (see here)\n",
        "'''\n",
        "\n",
        "# directon of max rate of change f(x)\n",
        "# x = x0 - grad( x0 )\n",
        "\n",
        "\n",
        "failed = list()\n",
        "def add_to_failed(entry): \n",
        "  failed.append( entry )\n",
        "  return None \n",
        "\n",
        "print( mstring )\n",
        "methods = list()\n",
        "for line in mstring.split( '\\n' ):\n",
        "  try:  \n",
        "    method = line.split()[ 0 ]\n",
        "    print( method )\n",
        "  except: \n",
        "    add_to_failed( method )\n",
        "    continue  \n",
        "\n",
        "  methods.append( method )\n",
        "\n",
        "print( methods )\n",
        "print( failed )"
      ],
      "metadata": {
        "colab": {
          "base_uri": "https://localhost:8080/"
        },
        "id": "kRPhCArlqM-3",
        "outputId": "72780cdf-df7c-4144-cab8-26ce49dc4039"
      },
      "execution_count": null,
      "outputs": [
        {
          "output_type": "stream",
          "name": "stdout",
          "text": [
            " \n",
            "Nelder-Mead (see here)\n",
            "Powell (see here)\n",
            "CG (see here)\n",
            "BFGS (see here)\n",
            "Newton-CG (see here)\n",
            "L-BFGS-B (see here)\n",
            "TNC (see here)\n",
            "COBYLA (see here)\n",
            "SLSQP (see here)\n",
            "trust-constr (see here)\n",
            "dogleg (see here)\n",
            "trust-ncg (see here)\n",
            "trust-exact (see here)\n",
            "trust-krylov (see here)\n",
            "\n",
            "Nelder-Mead\n",
            "Powell\n",
            "CG\n",
            "BFGS\n",
            "Newton-CG\n",
            "L-BFGS-B\n",
            "TNC\n",
            "COBYLA\n",
            "SLSQP\n",
            "trust-constr\n",
            "dogleg\n",
            "trust-ncg\n",
            "trust-exact\n",
            "trust-krylov\n",
            "['Nelder-Mead', 'Powell', 'CG', 'BFGS', 'Newton-CG', 'L-BFGS-B', 'TNC', 'COBYLA', 'SLSQP', 'trust-constr', 'dogleg', 'trust-ncg', 'trust-exact', 'trust-krylov']\n",
            "['trust-krylov', 'trust-krylov']\n"
          ]
        }
      ]
    },
    {
      "cell_type": "code",
      "source": [
        "from numpy.lib.function_base import append\n",
        "\n",
        "failed = list()\n",
        "\n",
        "for method in methods: \n",
        "  print( method )\n",
        "  try: \n",
        "    minimize_test( method )\n",
        "  except: \n",
        "    add_to_failed( method )\n",
        "    continue "
      ],
      "metadata": {
        "colab": {
          "base_uri": "https://localhost:8080/",
          "height": 1000
        },
        "id": "j1F-5b4JqSSY",
        "outputId": "26e13758-468f-44e3-c44e-fc50c5385ea4"
      },
      "execution_count": null,
      "outputs": [
        {
          "output_type": "stream",
          "name": "stdout",
          "text": [
            "Nelder-Mead\n",
            "error Nelder-Mead 0.2995179028761694\n",
            "Powell\n",
            "CG\n",
            "error CG 3.7846949570344943\n",
            "BFGS\n",
            "error BFGS 0.2397286788988838\n",
            "Newton-CG\n",
            "L-BFGS-B\n",
            "error L-BFGS-B 0.043085666177899384\n",
            "TNC\n",
            "error TNC 5.289067145372567\n",
            "COBYLA\n",
            "SLSQP\n",
            "error SLSQP 0.07398642105740894\n",
            "trust-constr\n",
            "error trust-constr 0.04739809906056758\n",
            "dogleg\n",
            "trust-ncg\n",
            "trust-exact\n",
            "trust-krylov\n"
          ]
        },
        {
          "output_type": "display_data",
          "data": {
            "text/plain": [
              "<Figure size 432x288 with 1 Axes>"
            ],
            "image/png": "[encoded data removed]"
          },
          "metadata": {
            "needs_background": "light"
          }
        },
        {
          "output_type": "display_data",
          "data": {
            "text/plain": [
              "<Figure size 432x288 with 1 Axes>"
            ],
            "image/png": "[encoded data removed]"
          },
          "metadata": {
            "needs_background": "light"
          }
        },
        {
          "output_type": "display_data",
          "data": {
            "text/plain": [
              "<Figure size 432x288 with 1 Axes>"
            ],
            "image/png": "[encoded data removed]"
          },
          "metadata": {
            "needs_background": "light"
          }
        },
        {
          "output_type": "display_data",
          "data": {
            "text/plain": [
              "<Figure size 432x288 with 1 Axes>"
            ],
            "image/png": "[encoded data removed]"
          },
          "metadata": {
            "needs_background": "light"
          }
        },
        {
          "output_type": "display_data",
          "data": {
            "text/plain": [
              "<Figure size 432x288 with 1 Axes>"
            ],
            "image/png": "[encoded data removed]"
          },
          "metadata": {
            "needs_background": "light"
          }
        },
        {
          "output_type": "display_data",
          "data": {
            "text/plain": [
              "<Figure size 432x288 with 1 Axes>"
            ],
            "image/png": "[encoded data removed]"
          },
          "metadata": {
            "needs_background": "light"
          }
        },
        {
          "output_type": "display_data",
          "data": {
            "text/plain": [
              "<Figure size 432x288 with 1 Axes>"
            ],
            "image/png": "[encoded data removed]"
          },
          "metadata": {
            "needs_background": "light"
          }
        }
      ]
    },
    {
      "cell_type": "code",
      "source": [
        "# Giovanni (SDOF)\n",
        "\n",
        "'''\n",
        "g as GM\n",
        "g1 g2 g3 ... gi ... gn \n",
        "\n",
        "m ai + c vi + k ui = -m gi\n",
        "'''\n",
        "\n",
        "def response(T, gs, dt, newmark='linear', c=5/100):\n",
        "  import math  \n",
        "  \n",
        "  if newmark == 'linear': \n",
        "    beta = 1/6\n",
        "    gamma = 1/2\n",
        "  else: \n",
        "    beta = 1/4\n",
        "    gamma = 1/2\n",
        "    \n",
        "  dct = dict(\n",
        "    [ ( key, np.zeros( len(gs) ) ) for key in ( 'u', 'v', 'a' ) ]\n",
        "  )\n",
        "\n",
        "  # stability and accuracy\n",
        "  dtr = T / 20\n",
        "  dtr = round( dtr, 5 ) \n",
        "  if dtr < dt: \n",
        "    nsubsteps = math.ceil( dt / dtr )\n",
        "    dtr = dt / nsubsteps\n",
        "  else: \n",
        "    nsubsteps = 1\n",
        "\n",
        "  m = 1\n",
        "  k = m *(2 * math.pi)**2 / T**2\n",
        "\n",
        "  # initial condition (b.c.)\n",
        "  u0 = 0\n",
        "  v0 = 0\n",
        "  a0 = ( m *gs[ 0 ] - c *v0 - k *u0 ) / m\n",
        "\n",
        "  for (stepcount, g) in enumerate( gs ):\n",
        "    for (substepcount) in range( nsubsteps ): \n",
        "      # m ai + c vi + k ui = -m gi  \n",
        "      # algebra: \n",
        "    \n",
        "      c1 = m /(beta *dtr**2) + gamma *c /(beta *dtr) \n",
        "      c2 = m /(beta *dtr) + c *(gamma/beta - 1)\n",
        "      c3 = m *( 1/(2*beta) - 1 ) + c *dt *(gamma/(2*beta) - 1)\n",
        "      \n",
        "      kh = k + c1\n",
        "\n",
        "      p = m * gs[ stepcount ] \n",
        "      ph = p + c1 *u0 + c2 *v0 + c3 *a0 \n",
        "\n",
        "      # real solution \n",
        "      u = ph / kh\n",
        "\n",
        "      a = (u - u0)/(beta *dtr**2) - v0 / (beta *dtr) - a0 *( 1/(2*beta) - 1 )\n",
        "      v = (u - u0) / (beta *dtr) *gamma + v0 *(1 - gamma/beta) + a0 *dtr *( 1 - gamma/(2*beta) )\n",
        "\n",
        "      u0 = u\n",
        "      v0 = v\n",
        "      a0 = a\n",
        "  \n",
        "    dct[ 'u' ][ stepcount ] = u\n",
        "    dct[ 'v' ][ stepcount ] = v\n",
        "    dct[ 'a' ][ stepcount ] = a \n",
        "  return dct    "
      ],
      "metadata": {
        "id": "mOx2X8CusR-H"
      },
      "execution_count": null,
      "outputs": []
    },
    {
      "cell_type": "code",
      "source": [
        "import math \n",
        "\n",
        "x = np.linspace( 0, 4 *math.pi )\n",
        "gs = np.sin( x )\n",
        "\n",
        "\n",
        "T = 0.05\n",
        "dt = T / 100\n",
        "\n",
        "resp = response( T, gs, dt )\n",
        "print( resp )"
      ],
      "metadata": {
        "colab": {
          "base_uri": "https://localhost:8080/"
        },
        "id": "E37P74YE0fHO",
        "outputId": "fb47e42b-b2fb-48f7-ec1e-048e0e31e36f"
      },
      "execution_count": null,
      "outputs": [
        {
          "output_type": "stream",
          "name": "stdout",
          "text": [
            "{'u': array([ 0.00000000e+00,  2.59931576e-07,  2.03716816e-06,  6.60059055e-06,\n",
            "        1.47532020e-05,  2.66727104e-05,  4.18309270e-05,  5.90039598e-05,\n",
            "        7.63748921e-05,  9.17200297e-05,  1.02659982e-04,  1.06948897e-04,\n",
            "        1.02769951e-04,  8.90033469e-05,  6.54347961e-05,  3.28777324e-05,\n",
            "       -6.80924623e-06, -5.08176999e-05, -9.55937407e-05, -1.37136114e-04,\n",
            "       -1.71362096e-04, -1.94507146e-04, -2.03519306e-04, -1.96408160e-04,\n",
            "       -1.72511018e-04, -1.32645731e-04, -7.91294985e-05, -1.56554423e-05,\n",
            "        5.29677288e-05,  1.21194087e-04,  1.83205948e-04,  2.33425994e-04,\n",
            "        2.67029794e-04,  2.80410838e-04,  2.71553177e-04,  2.40273991e-04,\n",
            "        1.88309506e-04,  1.19231441e-04,  3.81965509e-05, -4.84527131e-05,\n",
            "       -1.33704276e-04, -2.10465655e-04, -2.72175108e-04, -3.13380426e-04,\n",
            "       -3.30233007e-04, -3.20851535e-04, -2.85520620e-04, -2.26704069e-04,\n",
            "       -1.48868833e-04, -5.81325891e-05]), 'v': array([ 0.        ,  0.00031192,  0.00119693,  0.00250915,  0.0040257 ,\n",
            "        0.00547458,  0.00656924,  0.00704595,  0.00669971,  0.0054145 ,\n",
            "        0.00318439,  0.00012258, -0.00354276, -0.0074862 , -0.01131462,\n",
            "       -0.01460606, -0.01695399, -0.01801248, -0.01753747, -0.01541973,\n",
            "       -0.01170563, -0.006603  , -0.00047102,  0.00620585,  0.01285757,\n",
            "        0.0188788 ,  0.02368505,  0.02676936,  0.02775421,  0.02643326,\n",
            "        0.02279862,  0.01705053,  0.00958786,  0.00097983, -0.00807913,\n",
            "       -0.01682754, -0.02450312, -0.03041105, -0.03398821, -0.03485709,\n",
            "       -0.03286444, -0.02810068, -0.02089782, -0.01180575, -0.00154865,\n",
            "        0.009035  ,  0.01906349,  0.02768798,  0.03416673,  0.03793088]), 'a': array([ 0.        ,  0.24953431,  0.45847556,  0.59130182,  0.62193868,\n",
            "        0.53716447,  0.33856337,  0.0428055 , -0.31980177, -0.70836139,\n",
            "       -1.07573036, -1.37371341, -1.55856198, -1.59619091, -1.46654308,\n",
            "       -1.16660911, -0.71173892, -0.13505126,  0.51506036,  1.17913017,\n",
            "        1.79215546,  2.28994279,  2.61564659,  2.72584527,  2.59552848,\n",
            "        2.22146086,  1.62353463,  0.84391172, -0.05603127, -1.00072656,\n",
            "       -1.90698048, -2.69149362, -3.27864188, -3.60778328, -3.63938315,\n",
            "       -3.35934769, -2.78111277, -1.94523806, -0.9164873 ,  0.22138835,\n",
            "        1.37272745,  2.4382775 ,  3.32401209,  3.9496432 ,  4.25604273,\n",
            "        4.21087705,  3.81191464,  3.08767462,  2.09532507,  0.91599174])}\n"
          ]
        }
      ]
    },
    {
      "cell_type": "code",
      "source": [
        "(fig, ax) = plt.subplots()\n",
        "\n",
        "for key in ( 'gs', 'u' ): \n",
        "  try:  \n",
        "    y = resp[ key ] * 1e4\n",
        "  except: \n",
        "    y = gs\n",
        "\n",
        "  ax.plot( x, y, label = key )\n",
        "\n",
        "ax.legend()\n",
        "ax.grid()\n",
        "fig.savefig( f'.svg' )"
      ],
      "metadata": {
        "colab": {
          "base_uri": "https://localhost:8080/",
          "height": 266
        },
        "id": "-QMiPjux6TqK",
        "outputId": "522cf955-434b-460c-d3e8-99c3b3a42e8c"
      },
      "execution_count": null,
      "outputs": [
        {
          "output_type": "display_data",
          "data": {
            "text/plain": [
              "<Figure size 432x288 with 1 Axes>"
            ],
            "image/png": "[encoded data removed]"
          },
          "metadata": {
            "needs_background": "light"
          }
        }
      ]
    },
    {
      "cell_type": "code",
      "source": [
        "def spectrum(gs, dt, T, what='u'): \n",
        "  sp = np.zeros( len(T) )\n",
        "  \n",
        "  for idx in range( len(T) ): \n",
        "    resp = response( T[ idx ], gs, dt ) \n",
        "    sp[ idx ] = max( abs(resp[ what ]) )\n",
        "  return sp\n",
        "\n",
        "\n",
        "T = np.linspace( 0.0005, 2, 100 )\n",
        "sp = spectrum( gs, dt, T, what='a' )\n",
        "print( sp )\n",
        "\n",
        "(fig, ax) = plt.subplots()\n",
        "\n",
        "ax.plot( T, sp * 1e10, label = key )\n",
        "\n",
        "ax.legend()\n",
        "ax.grid()\n",
        "fig.savefig( f'spectrum.svg' )"
      ],
      "metadata": {
        "colab": {
          "base_uri": "https://localhost:8080/",
          "height": 575
        },
        "id": "Ce3M1sOKHVfg",
        "outputId": "82f67433-334d-4183-d29c-c24a5848c91a"
      },
      "execution_count": null,
      "outputs": [
        {
          "output_type": "stream",
          "name": "stdout",
          "text": [
            "[1.0390951  4.31011908 4.28219373 4.27089731 4.26381464 4.25846691\n",
            " 4.25400128 4.25004569 4.2464119  4.2429945  4.23972982 4.23657718\n",
            " 4.23350933 4.23050735 4.22755771 4.22465044 4.22177806 4.21893483\n",
            " 4.2161163  4.21331893 4.21053989 4.20777689 4.20502806 4.20229183\n",
            " 4.19956692 4.19685224 4.19414687 4.19145001 4.18876099 4.18607924\n",
            " 4.18340424 4.18073555 4.17807279 4.17541562 4.17276374 4.17011688\n",
            " 4.16747481 4.16483731 4.1622042  4.1595753  4.15695046 4.15432954\n",
            " 4.15171242 4.14909899 4.14648912 4.14388274 4.14127976 4.13868009\n",
            " 4.13608366 4.13349041 4.13090027 4.12831318 4.12572909 4.12314796\n",
            " 4.12056972 4.11799435 4.1154218  4.11285204 4.11028503 4.10772073\n",
            " 4.10515912 4.10260017 4.10004384 4.09749012 4.09493899 4.09239041\n",
            " 4.08984436 4.08884612 4.08628084 4.08371875 4.08115979 4.07860392\n",
            " 4.07605109 4.07350127 4.07095442 4.06841049 4.06586947 4.0633313\n",
            " 4.06079598 4.05826345 4.0557337  4.05320669 4.05068241 4.04816082\n",
            " 4.04564191 4.04312565 4.04061202 4.038101   4.03559256 4.0330867\n",
            " 4.03058338 4.0280826  4.02558433 4.02308857 4.02059529 4.01810448\n",
            " 4.01561612 4.0131302  4.01064672 4.00816564]\n"
          ]
        },
        {
          "output_type": "display_data",
          "data": {
            "text/plain": [
              "<Figure size 432x288 with 1 Axes>"
            ],
            "image/png": "[encoded data removed]"
          },
          "metadata": {
            "needs_background": "light"
          }
        }
      ]
    },
    {
      "cell_type": "code",
      "source": [
        "!git clone 'https://github.com/mbarnaba/python3.git'"
      ],
      "metadata": {
        "colab": {
          "base_uri": "https://localhost:8080/"
        },
        "id": "Fsa4rWh08DcC",
        "outputId": "41870e32-d4c0-4f2d-f192-81322e612723"
      },
      "execution_count": null,
      "outputs": [
        {
          "output_type": "stream",
          "name": "stdout",
          "text": [
            "Cloning into 'python3'...\n",
            "remote: Enumerating objects: 41, done.\u001b[K\n",
            "remote: Counting objects: 100% (41/41), done.\u001b[K\n",
            "remote: Compressing objects: 100% (34/34), done.\u001b[K\n",
            "remote: Total 41 (delta 14), reused 27 (delta 6), pack-reused 0\u001b[K\n",
            "Unpacking objects: 100% (41/41), done.\n"
          ]
        }
      ]
    },
    {
      "cell_type": "code",
      "source": [
        "!cd python3 && git pull"
      ],
      "metadata": {
        "colab": {
          "base_uri": "https://localhost:8080/"
        },
        "id": "N-ff7InRDQ8H",
        "outputId": "c9967c3a-24cc-43ae-a4c4-939865d36c60"
      },
      "execution_count": null,
      "outputs": [
        {
          "output_type": "stream",
          "name": "stdout",
          "text": [
            "Already up to date.\n"
          ]
        }
      ]
    },
    {
      "cell_type": "code",
      "source": [
        "import os \n",
        "import glob \n",
        "\n",
        "\n",
        "def file2columns(fname): \n",
        "  '''\n",
        "  read data from a file file with 2 columns\n",
        "  '''\n",
        "  x = list()\n",
        "  y = list()\n",
        "\n",
        "  # context: keep the file open for the shortest time possible\n",
        "  with open( fname, 'r' ) as f:\n",
        "    content = f.read()\n",
        "\n",
        "  lines = content.split( '\\n' )\n",
        "  for line in lines: \n",
        "    if ':' in line: \n",
        "      continue\n",
        "\n",
        "    try:\n",
        "      (xi, yi) = line.split()\n",
        "    except: \n",
        "      continue \n",
        "\n",
        "    xi = float( xi.replace( ',', '.' ) )\n",
        "    yi = float( yi.replace( ',', '.' ) )\n",
        "\n",
        "    x.append( xi )\n",
        "    y.append( yi )\n",
        "  return (x, y)\n",
        "\n",
        "\n",
        "def txt_process(fname):\n",
        "  print( f'processging {fname}' )\n",
        "\n",
        "  (x, y) = file2columns( fname )\n",
        "  '''\n",
        "  for i in range( len(x) ): \n",
        "    print( x[i], y[i] )\n",
        "  '''\n",
        "\n",
        "  dt = x[1] - x[0]\n",
        "  T = np.linspace(  0.01, 2, 1000 )\n",
        "  \n",
        "  for what in ( 'u', 'v', 'a' ):  \n",
        "    sp = spectrum( gs, dt, T, what = what )\n",
        "\n",
        "    (fig, ax) = plt.subplots()\n",
        "\n",
        "    ax.plot( T, sp, label = f'{fname}-{what}' )\n",
        "\n",
        "    ax.legend()\n",
        "    ax.grid()\n",
        "    # what is a place-holder inside the format string \n",
        "    fig.savefig( f'spectrum-{what}.svg' )\n",
        "  return None  \n",
        "\n",
        "\n",
        "txts = glob.glob( os.path.join('python3', '*.txt') )\n",
        "print( txts )\n",
        "\n",
        "for txt in txts: \n",
        "  txt_process( txt )\n",
        "  break"
      ],
      "metadata": {
        "colab": {
          "base_uri": "https://localhost:8080/",
          "height": 816
        },
        "id": "r2gkmIbaDb6W",
        "outputId": "d6f713e0-cf01-489b-a9c7-921d320a26ec"
      },
      "execution_count": null,
      "outputs": [
        {
          "output_type": "stream",
          "name": "stdout",
          "text": [
            "['python3/IT.CMI..HGE.D.EMSC-20161026_0000077.ACC.MP-MAX_python.txt', 'python3/TK.0302..HNE.D.TK-1995-0041.ACC.MP-MAX_python.txt', 'python3/RO.A39..HNE.D.RO-1977-0001.ACC.MP_python.txt', 'python3/TK.2402.HNE.D.TK-1992-0002.ACC.MP_python.txt']\n",
            "processging python3/IT.CMI..HGE.D.EMSC-20161026_0000077.ACC.MP-MAX_python.txt\n"
          ]
        },
        {
          "output_type": "display_data",
          "data": {
            "text/plain": [
              "<Figure size 432x288 with 1 Axes>"
            ],
            "image/png": "[encoded data removed]"
          },
          "metadata": {
            "needs_background": "light"
          }
        },
        {
          "output_type": "display_data",
          "data": {
            "text/plain": [
              "<Figure size 432x288 with 1 Axes>"
            ],
            "image/png": "[encoded data removed]"
          },
          "metadata": {
            "needs_background": "light"
          }
        },
        {
          "output_type": "display_data",
          "data": {
            "text/plain": [
              "<Figure size 432x288 with 1 Axes>"
            ],
            "image/png": "[encoded data removed]"
          },
          "metadata": {
            "needs_background": "light"
          }
        }
      ]
    },
    {
      "cell_type": "code",
      "source": [
        "!ls python3/*.ASC"
      ],
      "metadata": {
        "colab": {
          "base_uri": "https://localhost:8080/"
        },
        "id": "-uuE_NA4D1lZ",
        "outputId": "2ebbe6f0-175d-45c8-ddc4-8d4a2b1d5ad8"
      },
      "execution_count": null,
      "outputs": [
        {
          "output_type": "stream",
          "name": "stdout",
          "text": [
            "python3/IT.CMI..HGE.D.EMSC-20161026_0000077.SA.MP.ASC\n",
            "python3/IT.CMI..HGE.D.EMSC-20161026_0000077.SD.MP.ASC\n"
          ]
        }
      ]
    },
    {
      "cell_type": "code",
      "source": [
        "fname = 'python3/IT.CMI..HGE.D.EMSC-20161026_0000077.SD.MP.ASC'\n",
        "\n",
        "(T, Sa) = file2columns( fname )\n",
        "\n",
        "(fig, ax) = plt.subplots()\n",
        "\n",
        "ax.plot( T, Sa, label = key )\n",
        "\n",
        "ax.legend()\n",
        "ax.grid()\n",
        "fig.savefig( f'spectrum.svg' )"
      ],
      "metadata": {
        "colab": {
          "base_uri": "https://localhost:8080/",
          "height": 265
        },
        "id": "SurhZjABNzNJ",
        "outputId": "c297f933-abe7-45e4-c8f5-b9c4ec59db5b"
      },
      "execution_count": null,
      "outputs": [
        {
          "output_type": "display_data",
          "data": {
            "text/plain": [
              "<Figure size 432x288 with 1 Axes>"
            ],
            "image/png": "[encoded data removed]"
          },
          "metadata": {
            "needs_background": "light"
          }
        }
      ]
    },
    {
      "cell_type": "code",
      "source": [
        ""
      ],
      "metadata": {
        "colab": {
          "base_uri": "https://localhost:8080/"
        },
        "id": "RKsnAzmNOpJu",
        "outputId": "317a8391-11f4-49f7-cf29-209f45507077"
      },
      "execution_count": null,
      "outputs": [
        {
          "output_type": "stream",
          "name": "stdout",
          "text": [
            "[707.383057, 728.868286, 730.468384, 741.97345, 741.274048, 741.560913, 735.964966, 730.814636, 731.192322, 752.93396, 753.415833, 774.83844, 781.721924, 787.961548, 798.102905, 816.110474, 781.948425, 717.699707, 776.395386, 773.094604, 881.484253, 944.562683, 918.108704, 856.192871, 993.13031, 1192.990356, 1461.609375, 1635.174561, 1472.378906, 1225.613037, 1202.776978, 1278.0354, 1362.716553, 1298.907349, 1248.354492, 1259.821045, 1174.743042, 1119.933105, 1113.690186, 1301.346436, 1392.008545, 1445.340454, 1475.927246, 1467.404419, 1483.46936, 1725.088623, 1914.5177, 1969.005127, 1991.121948, 1915.971436, 1827.960938, 1812.00708, 1762.367065, 1731.271973, 1697.809692, 1630.56897, 1571.637085, 1428.948364, 1223.266235, 1237.789551, 1226.242676, 1156.755493, 984.932068, 817.604248, 698.341553, 585.208557, 477.693512, 423.955811, 327.137421, 247.940598, 196.037018, 153.481171, 123.248192, 112.489014, 102.311829, 92.995171, 84.50959, 76.841911, 63.867657, 53.658134, 49.380379, 45.558357, 39.068974, 33.87175, 29.684872, 26.26038, 24.774296, 23.417795, 21.035023, 19.004391, 17.262848, 15.765587, 14.472664, 13.347462, 12.3619, 10.38973, 8.914469, 7.777365, 6.88138, 6.154051, 5.556341, 5.059951, 4.639659, 4.280467, 3.967705]\n"
          ]
        }
      ]
    },
    {
      "cell_type": "code",
      "source": [
        "from matplotlib.docstring import Substitution\n",
        "# Silvana \n",
        "\n",
        "# structure of the file always the same: templating \n",
        "# more powerfull https://jinja.palletsprojects.com/en/3.1.x/\n",
        "# consider also awk\n",
        "\n",
        "tfname = 'Job.inp.template'\n",
        "with open( tfname, 'r' ) as f:\n",
        "  content = f.read() \n",
        "\n",
        "\n",
        "material1 = {\n",
        "  'density': 25, \n",
        "  'young': 1200, \n",
        "  'poiss': 0.3 \n",
        "}\n",
        "material2 = {\n",
        "  'density': 25, \n",
        "  'young': 1350, \n",
        "  'poiss': 0.3 \n",
        "}\n",
        "\n",
        "\n",
        "materials = [\n",
        "  material1, material2 \n",
        "]\n",
        "#material = materials_read( fname )\n",
        "\n",
        "values = dict()\n",
        "for (idx, material) in enumerate( materials ): \n",
        "  for par in ( 'density', 'young', 'poiss' ): \n",
        "    key = f'{par}{idx+1}'\n",
        "    value = material[ par ]\n",
        "\n",
        "    values[ key ] = value\n",
        "\n",
        "content = content.format( **value )\n",
        "\n",
        "\n",
        "pattern = 'input'\n",
        "\n",
        "\n",
        "# grep \n",
        "def line_find(lines, pattern): \n",
        "  for (idx, line) in enumerate( lines ):\n",
        "    if pattern in line: \n",
        "      break\n",
        "  return idx\n",
        "\n",
        "def line_edit(lines, idx, function): \n",
        "  line = function( lines[idx] )\n",
        "  lines[ idx ] = line\n",
        "  return None\n",
        "\n",
        "def replace(fname, subs, ofname): \n",
        "  with open( fname ) as f: \n",
        "    content = f.read()\n",
        "  lines = content.split( '\\n' )\n",
        "\n",
        "  for sub in subs: \n",
        "    (pattern, skip, function) = sub\n",
        "\n",
        "    idx = line_find( lines, pattern )\n",
        "    if skip > 0: \n",
        "      idx = idx + skip \n",
        "\n",
        "    line_edit( lines, idx, function ) \n",
        "    \n",
        "  with open( ofname, 'w' ) as f: \n",
        "    for line in lines: \n",
        "      print( line, file = f )\n",
        "  return None\n",
        "\n",
        "\n",
        "inps = [ 's5.inp' ] # et. al.\n",
        "substitutions = list()\n",
        "for inp in inps: \n",
        "  def function(iline):\n",
        "    ''' \n",
        "    replace stuff on the right of = with *.inp\n",
        "    ''' \n",
        "    (left, right) = iline.split( '=' )\n",
        "    line = '='.join( ( left, inp ) )\n",
        "    return line\n",
        "\n",
        "  substitutions.append(\n",
        "    ( 'input', 0, function )\n",
        "  )\n",
        "\n",
        "  for mat in mats: \n",
        "    pattern = 'Density'\n",
        "    skip = 2\n",
        "    \n",
        "    def function(iline):\n",
        "      line = mat[ 'density' ] + ','\n",
        "      return line\n",
        "\n",
        "    substitutions.append(\n",
        "        ( pattern, skip, function )\n",
        "    )\n",
        "\n",
        "\n",
        "fname = 'input'\n",
        "ofname = 'output'\n",
        "replace( fname, substitutions, ofname )"
      ],
      "metadata": {
        "colab": {
          "base_uri": "https://localhost:8080/",
          "height": 237
        },
        "id": "5u0rcemXPJ7E",
        "outputId": "3084293b-4fa1-43d3-dbd0-e45086af907c"
      },
      "execution_count": null,
      "outputs": [
        {
          "output_type": "error",
          "ename": "FileNotFoundError",
          "evalue": "ignored",
          "traceback": [
            "\u001b[0;31m---------------------------------------------------------------------------\u001b[0m",
            "\u001b[0;31mFileNotFoundError\u001b[0m                         Traceback (most recent call last)",
            "\u001b[0;32m<ipython-input-164-9b0aa188d0e5>\u001b[0m in \u001b[0;36m<module>\u001b[0;34m()\u001b[0m\n\u001b[1;32m      7\u001b[0m \u001b[0;34m\u001b[0m\u001b[0m\n\u001b[1;32m      8\u001b[0m \u001b[0mtfname\u001b[0m \u001b[0;34m=\u001b[0m \u001b[0;34m'Job.inp.template'\u001b[0m\u001b[0;34m\u001b[0m\u001b[0;34m\u001b[0m\u001b[0m\n\u001b[0;32m----> 9\u001b[0;31m \u001b[0;32mwith\u001b[0m \u001b[0mopen\u001b[0m\u001b[0;34m(\u001b[0m \u001b[0mtfname\u001b[0m\u001b[0;34m,\u001b[0m \u001b[0;34m'r'\u001b[0m \u001b[0;34m)\u001b[0m \u001b[0;32mas\u001b[0m \u001b[0mf\u001b[0m\u001b[0;34m:\u001b[0m\u001b[0;34m\u001b[0m\u001b[0;34m\u001b[0m\u001b[0m\n\u001b[0m\u001b[1;32m     10\u001b[0m   \u001b[0mcontent\u001b[0m \u001b[0;34m=\u001b[0m \u001b[0mf\u001b[0m\u001b[0;34m.\u001b[0m\u001b[0mread\u001b[0m\u001b[0;34m(\u001b[0m\u001b[0;34m)\u001b[0m\u001b[0;34m\u001b[0m\u001b[0;34m\u001b[0m\u001b[0m\n\u001b[1;32m     11\u001b[0m \u001b[0;34m\u001b[0m\u001b[0m\n",
            "\u001b[0;31mFileNotFoundError\u001b[0m: [Errno 2] No such file or directory: 'Job.inp.template'"
          ]
        }
      ]
    },
    {
      "cell_type": "code",
      "source": [
        "import json \n",
        "import pickle as pkl  # (data serialization) https://docs.python.org/3/library/pickle.html"
      ],
      "metadata": {
        "id": "LMI46LFHiarz"
      },
      "execution_count": null,
      "outputs": []
    },
    {
      "cell_type": "code",
      "source": [
        "def function():\n",
        "  print( 'hello' ) \n",
        "  return None\n",
        "\n",
        "subs = [\n",
        "  ( 'pattern', 2, function )\n",
        "]\n",
        "\n",
        "print( subs )\n",
        "\n",
        "fname = 'substitutions.pkl'\n",
        "with open( fname, 'wb' ) as f:\n",
        "  pkl.dump( subs, f )"
      ],
      "metadata": {
        "colab": {
          "base_uri": "https://localhost:8080/"
        },
        "id": "yM9QMthJiccS",
        "outputId": "ffadfebe-b09d-43df-fdc5-c7cd5c443e08"
      },
      "execution_count": null,
      "outputs": [
        {
          "output_type": "stream",
          "name": "stdout",
          "text": [
            "[('pattern', 2, <function function at 0x7f5850e7cdd0>)]\n"
          ]
        }
      ]
    },
    {
      "cell_type": "code",
      "source": [
        "with open( fname, 'rb' ) as f:\n",
        "  subs2 = pkl.load( f )\n",
        "print( subs )"
      ],
      "metadata": {
        "colab": {
          "base_uri": "https://localhost:8080/"
        },
        "id": "kIj7pVWRjasf",
        "outputId": "765b2483-011e-47a5-fd22-0ed3e3b48b04"
      },
      "execution_count": null,
      "outputs": [
        {
          "output_type": "stream",
          "name": "stdout",
          "text": [
            "[('pattern', 2, <function function at 0x7f5850e7cdd0>)]\n"
          ]
        }
      ]
    },
    {
      "cell_type": "code",
      "source": [
        ""
      ],
      "metadata": {
        "id": "BWd8wmHLl3_T"
      },
      "execution_count": null,
      "outputs": []
    }
  ],
  "metadata": {
    "kernelspec": {
      "display_name": "Python 3",
      "language": "python",
      "name": "python3"
    },
    "language_info": {
      "codemirror_mode": {
        "name": "ipython"
      },
      "file_extension": ".py",
      "mimetype": "text/x-python",
      "name": "python",
      "nbconvert_exporter": "python"
    },
    "colab": {
      "name": "notebook.ipynb",
      "provenance": [],
      "collapsed_sections": []
    }
  },
  "nbformat": 4,
  "nbformat_minor": 0
}