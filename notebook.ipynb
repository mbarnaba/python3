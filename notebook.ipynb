{
  "cells": [
    {
      "cell_type": "markdown",
      "source": [
        "# Python3: from zero to useful applications\n",
        "\n",
        "Matteo Barnaba, PhD \\\\\n",
        "scientific software developer specialized in HPC \\\\\n",
        "matteo.barnaba@exact-lab.it\n",
        "\n",
        "[materials for the course](https://github.com/mbarnaba/python3)"
      ],
      "metadata": {
        "id": "KcjjuCh19vZV"
      }
    },
    {
      "cell_type": "markdown",
      "source": [
        "## Contents\n",
        "\n",
        "- introduction to computer programming (how to talk to computers)\n",
        "- intro to Python3\n",
        "- variables\n",
        "- conditions, aka flow of control (if, else, elif)\n",
        "- errors (raise, try, catch)\n",
        "- loops (while, for)\n",
        "- functions (def and lambda)\n",
        "- modules (import)\n",
        "- object oriented programming\n",
        "  - classes and objects\n",
        "  - Python data model\n",
        "  - inheritance\n",
        "  - polymorphism\n",
        "  - abstraction\n",
        "  - iterators\n",
        "  - decorators\n",
        "  - functors\n",
        "- collections\n",
        "  - lists\n",
        "  - tuples\n",
        "  - dictionaries\n",
        "  - sets\n",
        "- input-output\n",
        "  - read\n",
        "  - write\n",
        "  - print\n",
        "  - formatted I/O\n",
        "  - contexts\n",
        "\n",
        "\n",
        "- data visualization (matplotlib)\n",
        "- Numpy/Scipy module and numerical applications/examples\n",
        "    - function interpolation and approximation\n",
        "    - numerical optimization\n",
        "    - numerical integration\n",
        "    - solution of differential equations\n",
        "\n",
        "Any suggestions from the attendees are warmly welcome\n",
        "(both for the topics and examples)\n",
        "as the course is intended to be as interactive as possible.\n",
        "\n",
        "It would also be very useful to know whether you know other programming languages, which ones and how well (1-5).\n",
        "So I can explain (hopefully) new concepts in terms of other programming languages you are familiar with.\n",
        "\n",
        "Please let me know via my mail address: matteo.barnaba@exact-lab.it\n",
        "\n",
        "## NOT Contents\n",
        "- This course is not about how to setup Python and the other needed modules on your system.\n",
        "The process is usually quite easy but might be very system-dependent and it is not related to the language itself.\n",
        "\n",
        "I strongly suggest you to use\n",
        "[Google Colab](https://colab.research.google.com)\n",
        "for this course as I will be using it too.\n",
        "I prepared this\n",
        "[jupyter](https://jupyter.org)\n",
        "[notebook](https://github.com/mbarnaba/python3/blob/main/notebook.ipynb)\n",
        "for the course and my idea would be to expand it together.\n",
        "\n",
        "\n",
        "In case you do not like Google, there are other solutions for running\n",
        "[jupyter](https://jupyter.org) notebooks in your browser,\n",
        "e.g., [alternatives](https://www.dataschool.io/cloud-services-for-jupyter-notebook).\n",
        "I did not test them, do not ask me in case something is not right with them ... sorry ;)\n",
        "\n"
      ],
      "metadata": {
        "id": "qRVsrSak99Fx"
      }
    },
    {
      "cell_type": "markdown",
      "source": [
        "# Programming languages  \n",
        "\n",
        "A programming language is any **set of rules** that converts strings, or graphical program elements in the case of visual programming languages, to various kinds of **machine code** output. \n",
        "Programming languages are one kind of computer language, and are used in computer programming to implement algorithms. \n",
        "[wikipedia](https://en.wikipedia.org/wiki/Programming_language#:~:text=A%20programming%20language%20is%20any,computer%20programming%20to%20implement%20algorithms)\n",
        "\n",
        "## In practice\n",
        "- programming languages are for humans, machines are fine with 0 and 1, in fact they do not understand anything else. \n",
        "- writing programs using 0 and 1 (machine language) is totally possible (and programs would be super fast) but it is really hard\n",
        "  - mantaining\n",
        "  - error prone \n",
        "- machine language is **not portable**, \n",
        "every machine (**CPU**) speaks a different language. \\\\\n",
        "[C](https://en.wikipedia.org/wiki/The_C_Programming_Language) \n",
        "is often referred to as a **portable assembler**.  \n",
        "- abstraction solves portability and aids humans (abstract thinking) \n",
        "- [compilers](https://en.wikipedia.org/wiki/Compiler) \n",
        "and [interpreters](https://en.wikipedia.org/wiki/Interpreter_(computing))\n",
        "translate and mediate between humans \n",
        "(smart but slow) and machines (fast but stupid)\n",
        "\n"
      ],
      "metadata": {
        "id": "LTGzpdMZSy2_"
      }
    },
    {
      "cell_type": "markdown",
      "source": [
        "# Python \n",
        "\n",
        "[Python](https://www.python.org/about/) \n",
        "is powerful... and fast; \\\\\n",
        "plays well with others; \\\\\n",
        "runs everywhere; \\\\\n",
        "is friendly & easy to learn; \\\\\n",
        "is Open.\n",
        "\n",
        "\n",
        "[Python](https://en.wikipedia.org/wiki/Python_(programming_language)) \n",
        "is a **high-level**, \n",
        "**general-purpose** programming language. \n",
        "Its design philosophy emphasizes **code readability** with the use of significant indentation. \n",
        "Its language constructs and object-oriented approach aim to help programmers write clear, logical code for small- and large-scale projects. \\\\\n",
        "Python is **dynamically-typed** and **garbage-collected**. \n",
        "It supports multiple programming **paradigms**, \n",
        "including **structured** (particularly procedural), \n",
        "**object-oriented** and **functional** programming. \n",
        "It is often described as a \"batteries included\" language due to its **comprehensive standard library**.\n",
        "\n",
        "## In practice\n",
        "- high-level: you do a lot writing a really small amount of code \\\\\n",
        "(very far away from the machine)\n",
        "- general-purpose: you can code any kind of applications with it\n",
        "(try implementing a web server in [Fortran](https://en.wikipedia.org/wiki/Fortran))\n",
        "- code readability: usually you can understand what the code is doing, \n",
        "even if you are not a programmer ... almost plain English\n",
        "- dynamically-typed: a variable can change its type during execution. \n",
        "The variable stores info/notion about its type. \n",
        "- garbage-collected: very important. \n",
        "If you do not know what this means (you do not need to), you should be very happy to have it.\n",
        "- paradigm: a certain way to structure and reason about (express) the program / problem you need to solve.\n",
        "  - procedural: [C](https://en.wikipedia.org/wiki/The_C_Programming_Language) \n",
        "  - object-oriented: [Java](https://en.wikipedia.org/wiki/Java_(programming_language))\n",
        "  - functional: [Haskell](https://en.wikipedia.org/wiki/Haskell_(programming_language)) (remember the $\\lambda$ symbol)\n",
        "- comprehensive standard library: everything (functionality) you need is, usually, just an **import** away ... very useful"
      ],
      "metadata": {
        "id": "BmhRpmwuZ4QM"
      }
    },
    {
      "cell_type": "code",
      "source": [
        ""
      ],
      "metadata": {
        "id": "kS8NLua-S_x-"
      },
      "execution_count": null,
      "outputs": []
    }
  ],
  "metadata": {
    "kernelspec": {
      "display_name": "Python 3",
      "language": "python",
      "name": "python3"
    },
    "language_info": {
      "codemirror_mode": {
        "name": "ipython"
      },
      "file_extension": ".py",
      "mimetype": "text/x-python",
      "name": "python",
      "nbconvert_exporter": "python"
    },
    "colab": {
      "name": "notebook.ipynb",
      "provenance": [],
      "collapsed_sections": []
    }
  },
  "nbformat": 4,
  "nbformat_minor": 0
}