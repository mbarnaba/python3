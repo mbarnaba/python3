{
  "cells": [
    {
      "cell_type": "markdown",
      "source": [
        "# Python3: from zero to useful applications\n",
        "\n",
        "Matteo Barnaba, PhD \\\\\n",
        "scientific software developer specialized in HPC \\\\\n",
        "matteo.barnaba@exact-lab.it\n",
        "\n",
        "[materials for the course](https://github.com/mbarnaba/python3)"
      ],
      "metadata": {
        "id": "KcjjuCh19vZV"
      }
    },
    {
      "cell_type": "markdown",
      "source": [
        "## Contents\n",
        "\n",
        "- introduction to computer programming (how to talk to computers)\n",
        "- intro to Python3\n",
        "- variables\n",
        "- conditions, aka flow of control (if, else, elif)\n",
        "- errors (raise, try, catch)\n",
        "- loops (while, for)\n",
        "- functions (def and lambda)\n",
        "- modules (import)\n",
        "- collections\n",
        "  - lists\n",
        "  - tuples\n",
        "  - dictionaries\n",
        "  - sets\n",
        "\n",
        "- input-output\n",
        "  - read\n",
        "  - write\n",
        "  - print\n",
        "  - formatted I/O\n",
        "  - contexts\n",
        "\n",
        "- data visualization (matplotlib)\n",
        "\n",
        "- object oriented programming\n",
        "  - classes and objects\n",
        "  - Python data model\n",
        "  - inheritance\n",
        "  - polymorphism\n",
        "  - abstraction\n",
        "  - iterators\n",
        "  - decorators\n",
        "  - functors\n",
        "\n",
        "- Numpy/Scipy module and numerical applications/examples\n",
        "    - function interpolation and approximation\n",
        "    - numerical optimization\n",
        "    - numerical integration\n",
        "    - solution of differential equations\n",
        "\n",
        "Any suggestions from the attendees are warmly welcome\n",
        "(both for the topics and examples)\n",
        "as the course is intended to be as interactive as possible.\n",
        "\n",
        "It would also be very useful to know whether you know other programming languages, which ones and how well (1-5).\n",
        "So I can explain (hopefully) new concepts in terms of other programming languages you are familiar with.\n",
        "\n",
        "Please let me know via my mail address: matteo.barnaba@exact-lab.it\n",
        "\n",
        "## NOT Contents\n",
        "- This course is not about how to setup Python and the other needed modules on your system.\n",
        "The process is usually quite easy but might be very system-dependent and it is not related to the language itself.\n",
        "\n",
        "I strongly suggest you to use\n",
        "[Google Colab](https://colab.research.google.com)\n",
        "for this course as I will be using it too.\n",
        "I prepared this\n",
        "[jupyter](https://jupyter.org)\n",
        "[notebook](https://github.com/mbarnaba/python3/blob/main/notebook.ipynb)\n",
        "for the course and my idea would be to expand it together.\n",
        "\n",
        "\n",
        "In case you do not like Google, there are other solutions for running\n",
        "[jupyter](https://jupyter.org) notebooks in your browser,\n",
        "e.g., [alternatives](https://www.dataschool.io/cloud-services-for-jupyter-notebook).\n",
        "I did not test them, do not ask me in case something is not right with them ... sorry ;)\n",
        "\n"
      ],
      "metadata": {
        "id": "qRVsrSak99Fx"
      }
    },
    {
      "cell_type": "markdown",
      "source": [
        "# Programming languages  \n",
        "\n",
        "A programming language is any **set of rules** that converts strings, or graphical program elements in the case of visual programming languages, to various kinds of **machine code** output. \n",
        "Programming languages are one kind of computer language, and are used in computer programming to implement algorithms. \n",
        "[wikipedia](https://en.wikipedia.org/wiki/Programming_language#:~:text=A%20programming%20language%20is%20any,computer%20programming%20to%20implement%20algorithms)\n",
        "\n",
        "## In practice\n",
        "- programming languages are for humans, machines are fine with 0 and 1, in fact they do not understand anything else. \n",
        "- writing programs using 0 and 1 (machine language) is totally possible (and programs would be super fast) but it is really hard\n",
        "  - mantaining\n",
        "  - error prone \n",
        "- machine language is **not portable**, \n",
        "every machine (**CPU**) speaks a different language. \\\\\n",
        "[C](https://en.wikipedia.org/wiki/The_C_Programming_Language) \n",
        "is often referred to as a **portable assembler**.  \n",
        "- abstraction solves portability and aids humans (abstract thinking) \n",
        "- [compilers](https://en.wikipedia.org/wiki/Compiler) \n",
        "and [interpreters](https://en.wikipedia.org/wiki/Interpreter_(computing))\n",
        "translate and mediate between humans \n",
        "(smart but slow) and machines (fast but stupid)\n",
        "\n"
      ],
      "metadata": {
        "id": "LTGzpdMZSy2_"
      }
    },
    {
      "cell_type": "markdown",
      "source": [
        "# Python \n",
        "\n",
        "[Python](https://www.python.org/about/) \n",
        "is powerful... and fast; \\\\\n",
        "plays well with others; \\\\\n",
        "runs everywhere; \\\\\n",
        "is friendly & easy to learn; \\\\\n",
        "is Open.\n",
        "\n",
        "\n",
        "[Python](https://en.wikipedia.org/wiki/Python_(programming_language)) \n",
        "is a **high-level**, \n",
        "**general-purpose** programming language. \n",
        "Its design philosophy emphasizes **code readability** with the use of significant indentation. \n",
        "Its language constructs and object-oriented approach aim to help programmers write clear, logical code for small- and large-scale projects. \\\\\n",
        "Python is **dynamically-typed** and **garbage-collected**. \n",
        "It supports multiple programming **paradigms**, \n",
        "including **structured** (particularly procedural), \n",
        "**object-oriented** and **functional** programming. \n",
        "It is often described as a \"batteries included\" language due to its **comprehensive standard library**.\n",
        "\n",
        "## In practice\n",
        "- high-level: you do a lot writing a really small amount of code \\\\\n",
        "(very far away from the machine)\n",
        "- general-purpose: you can code any kind of applications with it\n",
        "(try implementing a web server in [Fortran](https://en.wikipedia.org/wiki/Fortran))\n",
        "- code readability: usually you can understand what the code is doing, \n",
        "even if you are not a programmer ... almost plain English\n",
        "- dynamically-typed: a variable can change its type during execution. \n",
        "The variable stores info/notion about its type. \n",
        "- garbage-collected: very important. \n",
        "If you do not know what this means (you do not need to), you should be very happy to have it.\n",
        "- paradigm: a certain way to structure and reason about (express) the program / problem you need to solve.\n",
        "  - procedural: [C](https://en.wikipedia.org/wiki/The_C_Programming_Language) \n",
        "  - object-oriented: [Java](https://en.wikipedia.org/wiki/Java_(programming_language))\n",
        "  - functional: [Haskell](https://en.wikipedia.org/wiki/Haskell_(programming_language)) (remember the $\\lambda$ symbol)\n",
        "- comprehensive standard library: everything (functionality) you need is, usually, just an **import** away ... very useful"
      ],
      "metadata": {
        "id": "BmhRpmwuZ4QM"
      }
    },
    {
      "cell_type": "code",
      "source": [
        "# variables \n",
        "\n",
        "\n",
        "# numbers \n",
        "a = (1 / 3) * 3 \n",
        "print( a )\n",
        "b = 1\n",
        "\n",
        "if ( a == b ): \n",
        "  print( \"same number\" )\n",
        "else:\n",
        "  print( \"NOT same number\" )\n",
        "\n",
        "\n",
        "\n",
        "# strings\n",
        "# 'Matteo': object in memory, area of memory treated as a string   \n",
        "# name: name of the variable (aka label) -> a way to get to the referenced object   \n",
        "name1 = 'Matteo'\n",
        "name2 = 'Matteo'\n",
        "\n",
        "print( 'name1', name1, id(name1))\n",
        "print( 'name2', name2, id(name2) )\n",
        "\n",
        "if ( name1 == name2 ): \n",
        "  print( \"same name\" )\n",
        "else:\n",
        "  print( \"NOT same name\" )\n",
        "\n",
        "\n",
        "if name1 is name2: \n",
        "  print( \"same object\" )\n",
        "else: \n",
        "  print( 'NOT same object' )\n",
        "\n",
        "# str is read-only or unmutable (string is defined this way, does not hold for all types)\n",
        "# is it reasonable?  \n",
        "name2 = name2.replace( 'o', 'a' )\n",
        "print( 'name1', name1, id(name1))\n",
        "print( 'name2', name2, id(name2) )\n",
        "\n",
        "if name1 is name2: \n",
        "  print( \"same object\" )\n",
        "else: \n",
        "  print( 'NOT same object' )\n",
        "\n",
        "\n",
        "# a doc text \n",
        "'''\n",
        "list1 = list2\n",
        "modify( list2 )\n",
        "'''\n",
        "\n",
        "\n",
        "# force a modification\n",
        "# name1[ 0 ] = 'l'\n",
        "\n",
        "# multiline string  \n",
        "longstring = '''\n",
        "line 1 \n",
        "line 2  \n",
        "'''\n",
        "\n",
        "print( longstring )\n",
        "\n",
        "# escape sequences: \\n, \\t, \\b\n",
        "same = 'line 1 \\nline 2'\n",
        "print( same )"
      ],
      "metadata": {
        "colab": {
          "base_uri": "https://localhost:8080/"
        },
        "id": "sEeI9l8PWZua",
        "outputId": "55ed259c-fbad-40ef-a0d2-69b647ea94ca"
      },
      "execution_count": null,
      "outputs": [
        {
          "output_type": "stream",
          "name": "stdout",
          "text": [
            "1.0\n",
            "same number\n",
            "name1 Matteo 139930363048816\n",
            "name2 Matteo 139930363048816\n",
            "same name\n",
            "same object\n",
            "name1 Matteo 139930363048816\n",
            "name2 Mattea 139930361327216\n",
            "NOT same object\n",
            "\n",
            "line 1 \n",
            "line 2  \n",
            "\n",
            "line 1 \n",
            "line 2\n"
          ]
        }
      ]
    },
    {
      "cell_type": "code",
      "source": [
        "# functions \n",
        "\n",
        "# what is a function? \n",
        "# in math: f : X -> Y, y = f(x)\n",
        "# in coding: a set of operations a I have to perform more than ones\n",
        "\n",
        "def hypot(a, b): \n",
        "  '''\n",
        "  a simple function to eval the hypot given a and b \n",
        "  '''\n",
        "  c = norm( a, b, 2 )\n",
        "  return c \n",
        "\n",
        "# optional parameter \n",
        "def norm(a, b, exp=2):\n",
        "    '''\n",
        "    eval the norm defined by exp. \n",
        "    when exp is a numbe: 1)\n",
        "    when exp is 'inf': 2) \n",
        "    '''\n",
        "\n",
        "    if type(exp) is int or type(exp) is float:\n",
        "      c = (a**exp + b**exp)**(1/exp)\n",
        "    else:\n",
        "      c = max( a, b )     \n",
        "    return c\n",
        "\n",
        "\n",
        "c = norm( 3, 4 )\n",
        "print( \"c =\", c )\n",
        "\n",
        "c = norm( 3, 4, 3 )\n",
        "print( \"c =\", c )\n",
        "\n",
        "c = norm( 3, 4, exp = 3 )\n",
        "print( \"c =\", c )\n",
        "\n",
        "c = norm( 3, 4, exp = 'inf' )\n",
        "print( \"c =\", c )\n",
        "\n"
      ],
      "metadata": {
        "colab": {
          "base_uri": "https://localhost:8080/"
        },
        "id": "VBC2UUavWiu1",
        "outputId": "7fc55d33-27c0-49ca-8bd4-49db3c1553b3"
      },
      "execution_count": null,
      "outputs": [
        {
          "output_type": "stream",
          "name": "stdout",
          "text": [
            "c = 5.0\n",
            "c = 4.497941445275415\n",
            "c = 4.497941445275415\n",
            "c = 4\n"
          ]
        }
      ]
    },
    {
      "cell_type": "code",
      "source": [
        "# recursive function\n",
        "def factorial_recursive(n):\n",
        "  '''\n",
        "  n! when is interger\n",
        "  '''\n",
        "\n",
        "  # exit case \n",
        "  if (n < 2): \n",
        "    return n\n",
        "\n",
        "  #res = n * (n - 1)!\n",
        "  res = n * factorial_recursive( n - 1)\n",
        "  return res \n",
        "\n",
        "def factorial_loop(n): \n",
        "  res = 1 \n",
        "  while n > 1: \n",
        "    res = res * n\n",
        "    n = n - 1\n",
        "  return res\n",
        "\n",
        "\n",
        "# doubly recursive \n",
        "def fib(n): \n",
        "  if (n < 2): \n",
        "    return n\n",
        "\n",
        "  res = fib( n - 1 ) + fib( n - 2 )\n",
        "  return res\n",
        "\n",
        "\n",
        "def new_x( a, b, f ):\n",
        "  # bisection  \n",
        "  x = 0.5 * (a + b)\n",
        "  # secant newton\n",
        "  return x\n",
        "\n",
        "def taylor(f, *inter, tol=1e-6, maxiter=1e2, iter=0):\n",
        "  ''' \n",
        "  x in [a, b] so that f(x) = 0\n",
        "  \n",
        "  f( a ) * f( b ) < 0\n",
        "  ''' \n",
        "  # unpaching\n",
        "  x = new_x( *inter, f )\n",
        "  fx = f( x )\n",
        "\n",
        "  if abs( fx ) < tol or iter > maxiter: \n",
        "    # I can return more that ono value \n",
        "    return (x, iter)  \n",
        "\n",
        "  if f( x ) * f( a ) < 0:\n",
        "    # tuple \n",
        "    inter = ( a, x )\n",
        "  else: \n",
        "    inter = ( x, b )\n",
        "\n",
        "  # unpacking \n",
        "  (x, iter) = taylor( f, *inter, iter = iter + 1, maxiter = maxiter)\n",
        "  \n",
        "  # I can return more that ono value \n",
        "  return (x, iter)\n",
        "\n",
        "res = factorial_recursive( 4 )\n",
        "print( res )\n",
        "\n",
        "res = factorial_loop( 4 )\n",
        "print( res )\n",
        "\n",
        "\n",
        "def parab(x):\n",
        "  y = x**2 - 2 \n",
        "  return y\n",
        "\n",
        "\n",
        "a = -10 \n",
        "b = 0\n",
        "\n",
        "# lambda functions: nameless function \n",
        "#f = lambda x: x**2 - 2\n",
        "\n",
        "(x, iter) = taylor( \n",
        "  lambda x: x**2 - 2, \n",
        "  a, b \n",
        ")\n",
        "print( \"solution is\", x, \"obtained in\", iter, \"iterations\" )\n",
        "\n",
        "# format string 'f'\n",
        "print( f\"solution is {x} obtained in {iter} iterations\" )"
      ],
      "metadata": {
        "colab": {
          "base_uri": "https://localhost:8080/"
        },
        "id": "82bbPqqFW4sq",
        "outputId": "580d45be-fce9-46b0-c4f7-482245e323c6"
      },
      "execution_count": null,
      "outputs": [
        {
          "output_type": "stream",
          "name": "stdout",
          "text": [
            "24\n",
            "24\n",
            "solution is -5.354330708661418 obtained in 101 iterations\n",
            "solution is -5.354330708661418 obtained in 101 iterations\n"
          ]
        }
      ]
    },
    {
      "cell_type": "code",
      "source": [
        "# errors \n",
        "\n",
        "def taylor(f, *inter, tol=1e-6, maxiter=1e2, iter=0):\n",
        "  ''' \n",
        "  x in [a, b] so that f(x) = 0\n",
        "  \n",
        "  f( a ) * f( b ) < 0\n",
        "  ''' \n",
        "  # unpaching\n",
        "  x = new_x( *inter, f )\n",
        "  fx = f( x )\n",
        "\n",
        "  if abs( fx ) < tol or iter > maxiter: \n",
        "    # I can return more that ono value \n",
        "    return (x, iter)  \n",
        "\n",
        "  if f( x ) * f( a ) < 0:\n",
        "    # tuple \n",
        "    inter = ( a, x )\n",
        "  else: \n",
        "    inter = ( x, b )\n",
        "\n",
        "  # unpacking \n",
        "  (x, iter) = taylor( f, *inter, iter = iter + 1, maxiter = maxiter)\n",
        "  \n",
        "  # I can return more that ono value \n",
        "  return (x, iter)\n",
        "\n",
        "(x, iter) = taylor( \n",
        "  lambda x: x**2 - 2, \n",
        "  a, b \n",
        ")\n",
        "\n",
        "# format string 'f'\n",
        "print( f\"solution is {x} obtained in {iter} iterations\" )"
      ],
      "metadata": {
        "colab": {
          "base_uri": "https://localhost:8080/"
        },
        "id": "4UVsvTVxlJUh",
        "outputId": "1e84b574-ae67-4391-ef87-0baeed9560c8"
      },
      "execution_count": null,
      "outputs": [
        {
          "output_type": "stream",
          "name": "stdout",
          "text": [
            "solution is -5.354330708661418 obtained in 101 iterations\n"
          ]
        }
      ]
    },
    {
      "cell_type": "code",
      "source": [
        "# exceptions \n",
        "# error handling \n",
        "def read_number(iter=1): \n",
        "  numstr = input( \"give me a number \" )\n",
        "\n",
        "  try:\n",
        "    num = int( numstr ) \n",
        "      \n",
        "  except: \n",
        "    print( f\"{numstr} is not a valid number (is a {type(numstr)})\" )\n",
        "    \n",
        "    if iter < 2: \n",
        "      num = read_number( iter + 1 )\n",
        "\n",
        "    else: \n",
        "      raise( \"enough!!\" )\n",
        "  return num\n",
        "\n",
        "\n",
        "\n",
        "# final user \n",
        "\n",
        "num = read_number()\n",
        "print( f\"the number is {num} of type\", type(num) )"
      ],
      "metadata": {
        "colab": {
          "base_uri": "https://localhost:8080/"
        },
        "id": "NDxK-LBP5JO9",
        "outputId": "a382d9c7-6c55-46d5-eb5e-1e2b118ea298"
      },
      "execution_count": null,
      "outputs": [
        {
          "output_type": "stream",
          "name": "stdout",
          "text": [
            "give me a number 22 \n",
            "the number is 22 of type <class 'int'>\n"
          ]
        }
      ]
    },
    {
      "cell_type": "code",
      "source": [
        "def myint(string): \n",
        "  try: \n",
        "     num = int( string ) \n",
        "  except: \n",
        "    num = None\n",
        "  return num\n",
        "\n",
        "# exceptions \n",
        "# error handling \n",
        "def read_number(iter=1): \n",
        "  numstr = input( \"give me a number \" )\n",
        "\n",
        "  num = myint( numstr ) \n",
        "  if num is None: \n",
        "    print( f\"{numstr} is not a valid number (is a {type(numstr)})\" )\n",
        "    \n",
        "    if iter < 2:\n",
        "      num = read_number( iter + 1 )   \n",
        "  return num\n",
        "\n",
        "\n",
        "num = read_number()\n",
        "if num is None: \n",
        "  print( \"stupid user\" )"
      ],
      "metadata": {
        "colab": {
          "base_uri": "https://localhost:8080/"
        },
        "id": "NGoeC-HS4PyK",
        "outputId": "7adbd0b3-e6d7-4017-a702-45bc61084037"
      },
      "execution_count": null,
      "outputs": [
        {
          "name": "stdout",
          "output_type": "stream",
          "text": [
            "give me a number 22\n"
          ]
        }
      ]
    },
    {
      "cell_type": "code",
      "source": [
        "# collections \n",
        "\n",
        "# list: a squence of objects of the same type (better)\n",
        "# mutable \n",
        "numbers = [ 1, 2, 3 ]\n",
        "\n",
        "for num in range( 12, 15 ): \n",
        "  numbers.append( num )\n",
        "  numbers.insert( num, 3 )\n",
        "\n",
        "# indeces start at 0\n",
        "print( numbers, \"element: 2\", numbers[ 1 ] )\n",
        "\n",
        "nums13 = numbers[ 1 : 3 ]\n",
        "print( \"nums13\", nums13 )\n",
        "\n",
        "last = numbers.pop()\n",
        "print( \"last:\", last )\n",
        "\n",
        "print( numbers )\n",
        "\n",
        "def fornumber(number):\n",
        "  print( 'number:', number )\n",
        "\n",
        "def forstring(string): \n",
        "  print( 'string:', string  ) \n",
        "\n",
        "for num in numbers: \n",
        "  if type(num) is int: \n",
        "    fornumber( num )\n",
        "  else: \n",
        "    forstring( num ) \n",
        "\n",
        "\n",
        "# tuple immutable\n",
        "a = ( 2, 3, 'me' )\n",
        "print( a ) \n",
        "\n",
        "#a.append( 4 )\n",
        "#a += 4\n",
        "\n",
        "\n",
        "# dict \n",
        "dct = dict()\n",
        "\n",
        "# key is \"HASHable\" <-> immutable \n",
        "# dct[ key ] = value (whatever)\n",
        "dct[ 'name' ] = 'matteo' \n",
        "dct[ 'surname' ] = 'barnaba'\n",
        "print( dct )\n",
        "\n",
        "# traversing (unpacking and returning more than one value)\n",
        "print( \"traversing dct\" )\n",
        "for (key, val) in dct.items(): \n",
        "  print( key, val ) \n",
        "\n",
        "for key in dct.keys(): \n",
        "  print( key, dct[ key ] )\n",
        "\n",
        "\n",
        "# retrieve O(1), hash eval\n",
        "print( dct[ 'name' ] )\n",
        "\n",
        "\n",
        "# (lon, lat)\n",
        "key = ( 13, 45 )\n",
        "#insert \n",
        "pga = dict()\n",
        "pga[ key ] = 458 \n",
        "\n",
        "print( pga )\n",
        "\n",
        "\n",
        "# complexity O( len(pgas) )\n",
        "pgas = [ ( (13, 45), 450 ), ( (13, 46), 584 ) ]\n",
        "for pga in pgas: \n",
        "  ( (lon, lat), pgaval ) = pga\n",
        "  if (lon, lat) == (13, 45): \n",
        "    print( pga )\n",
        "\n",
        "# set, collection with no repetition\n",
        "snumbers = set( numbers ) \n",
        "print( snumbers )"
      ],
      "metadata": {
        "id": "8uYz8L8G_snF",
        "colab": {
          "base_uri": "https://localhost:8080/"
        },
        "outputId": "8fe4d402-0013-44a0-815f-fde458065810"
      },
      "execution_count": null,
      "outputs": [
        {
          "output_type": "stream",
          "name": "stdout",
          "text": [
            "[1, 2, 3, 12, 3, 13, 3, 14, 3] element: 2 2\n",
            "nums13 [2, 3]\n",
            "last: 3\n",
            "[1, 2, 3, 12, 3, 13, 3, 14]\n",
            "number: 1\n",
            "number: 2\n",
            "number: 3\n",
            "number: 12\n",
            "number: 3\n",
            "number: 13\n",
            "number: 3\n",
            "number: 14\n",
            "(2, 3, 'me')\n",
            "{'name': 'matteo', 'surname': 'barnaba'}\n",
            "traversing dct\n",
            "name matteo\n",
            "surname barnaba\n",
            "name matteo\n",
            "surname barnaba\n",
            "matteo\n",
            "{(13, 45): 458}\n",
            "((13, 45), 450)\n",
            "{1, 2, 3, 12, 13, 14}\n"
          ]
        }
      ]
    },
    {
      "cell_type": "code",
      "source": [
        "def sum(tokens): \n",
        "  num = float( tokens[ 0 ] ) + float( tokens[ 2 ] )\n",
        "  return num\n",
        "\n",
        "def sub(tokens):\n",
        "  num = float( tokens[ 0 ] ) - float( tokens[ 2 ] )\n",
        "  return num\n",
        "\n",
        "functions = {\n",
        "  '+': {\n",
        "      'priority': 1,\n",
        "      'function': sum\n",
        "  },\n",
        "  '-': sub, \n",
        "  '*': \n",
        "}\n",
        "\n",
        "def string2tokens(string): \n",
        "  tokens = string.split()\n",
        "  return tokens\n",
        "\n",
        "def tokens2number(tokens):\n",
        "  idx = 1\n",
        "\n",
        "  operator = tokens[ idx ]\n",
        "\n",
        "  function = functions[ operator ]\n",
        "  number = function( tokens )\n",
        "\n",
        "  print( f\"tokens: {tokens}, operator: {operator}, partial: {number}\" )\n",
        "\n",
        "  # remove idx-1 e idx from tokens \n",
        "  tokens = tokens[ idx + 1 : ]\n",
        "\n",
        "  # replace 0 with num \n",
        "  tokens[ 0 ] = number\n",
        "\n",
        "  if len( tokens ) > 1:\n",
        "    number = tokens2number( tokens ) \n",
        "  \n",
        "  else:\n",
        "    number = float( tokens[0] )\n",
        "  return number \n",
        "\n",
        "\n",
        "def calculator(string):\n",
        "  tokens = string2tokens( string )\n",
        "  number = tokens2number( tokens )\n",
        "  return number\n",
        "\n",
        "string = \"12 + 5 - 4 + 23 - 98 + 78 - 97 + 36 - 78 + 17\"\n",
        "number = calculator( string )\n",
        "print( f\"result: {number}\" )"
      ],
      "metadata": {
        "colab": {
          "base_uri": "https://localhost:8080/"
        },
        "id": "sJHKzQkCTk1z",
        "outputId": "c76ce990-6f5e-4ea3-85f9-bf6acee35b6a"
      },
      "execution_count": null,
      "outputs": [
        {
          "output_type": "stream",
          "name": "stdout",
          "text": [
            "tokens: ['12', '+', '5', '-', '4', '+', '23', '-', '98', '+', '78', '-', '97', '+', '36', '-', '78', '+', '17'], operator: +, partial: 17.0\n",
            "tokens: [17.0, '-', '4', '+', '23', '-', '98', '+', '78', '-', '97', '+', '36', '-', '78', '+', '17'], operator: -, partial: 13.0\n",
            "tokens: [13.0, '+', '23', '-', '98', '+', '78', '-', '97', '+', '36', '-', '78', '+', '17'], operator: +, partial: 36.0\n",
            "tokens: [36.0, '-', '98', '+', '78', '-', '97', '+', '36', '-', '78', '+', '17'], operator: -, partial: -62.0\n",
            "tokens: [-62.0, '+', '78', '-', '97', '+', '36', '-', '78', '+', '17'], operator: +, partial: 16.0\n",
            "tokens: [16.0, '-', '97', '+', '36', '-', '78', '+', '17'], operator: -, partial: -81.0\n",
            "tokens: [-81.0, '+', '36', '-', '78', '+', '17'], operator: +, partial: -45.0\n",
            "tokens: [-45.0, '-', '78', '+', '17'], operator: -, partial: -123.0\n",
            "tokens: [-123.0, '+', '17'], operator: +, partial: -106.0\n",
            "result: -106.0\n"
          ]
        }
      ]
    },
    {
      "cell_type": "code",
      "source": [
        "# Stefano "
      ],
      "metadata": {
        "id": "_pHzg1N4Zm2b"
      },
      "execution_count": null,
      "outputs": []
    },
    {
      "cell_type": "code",
      "source": [
        "# modules \n",
        "\n",
        "import sys\n",
        "\n",
        "\n",
        "dir( sys )\n",
        "sys.getrecursionlimit()\n",
        "sys.setrecursionlimit( 2 * sys.getrecursionlimit() )\n",
        "sys.getrecursionlimit()"
      ],
      "metadata": {
        "colab": {
          "base_uri": "https://localhost:8080/"
        },
        "id": "yLzlf4HVeszA",
        "outputId": "2a09c316-defe-4d6c-a6b2-8ec0b0e03ebd"
      },
      "execution_count": null,
      "outputs": [
        {
          "output_type": "execute_result",
          "data": {
            "text/plain": [
              "64000"
            ]
          },
          "metadata": {},
          "execution_count": 69
        }
      ]
    },
    {
      "cell_type": "code",
      "source": [
        "from matplotlib import pyplot as plt "
      ],
      "metadata": {
        "id": "7Xhe-f4cjqm0"
      },
      "execution_count": null,
      "outputs": []
    },
    {
      "cell_type": "code",
      "source": [
        "# x = list()\n",
        "# for i in range(i): \n",
        "#   x.append()\n",
        "\n",
        "\n",
        "a = 0\n",
        "b = 5\n",
        "n = 100\n",
        "\n",
        "dct = {\n",
        "  'x' : [ i * (b - a) / n for i in range(n) ], \n",
        "  'y1' : [ x[ i ] **2 for i in range(len(x) ) ],\n",
        "  'y2' : [ x[ i ] **3 for i in range(len(x) ) ]  \n",
        "}\n",
        "\n",
        "\n",
        "(fig, ax) = plt.subplots()\n",
        "\n",
        "for yname in ( 'y1', 'y2' ): \n",
        "  x = dct[ 'x' ]\n",
        "  y = dct[ yname ]\n",
        "  ax.plot( x, y, label = yname, color='res', linetype='-' )\n",
        "\n",
        "  ax.set_xlabel( 'velocity ($m/s$)' )\n",
        "  \n",
        "  ax.set_ylabel( '$\\sum a_i$' )\n",
        "\n",
        "ax.set_yscale( 'log' )\n",
        "\n",
        "ax.legend()\n",
        "ax.grid()\n",
        "fig.savefig( 'test.svg' )"
      ],
      "metadata": {
        "colab": {
          "base_uri": "https://localhost:8080/",
          "height": 283
        },
        "id": "gAMbosZ5kMx9",
        "outputId": "ffe639f9-2dc8-4d95-93c4-456b0f12b118"
      },
      "execution_count": null,
      "outputs": [
        {
          "output_type": "display_data",
          "data": {
            "text/plain": [
              "<Figure size 432x288 with 1 Axes>"
            ],
            "image/png": "[encoded data removed]"
          },
          "metadata": {
            "needs_background": "light"
          }
        }
      ]
    },
    {
      "cell_type": "code",
      "source": [
        "# decorators \n",
        "\n",
        "# decorators \n",
        "def debug(f):\n",
        "  # nested function \n",
        "  def inner(*args, **kwargs): \n",
        "    res = f( *args, **kwargs )\n",
        "    # introspection  \n",
        "    print( f.__name__, 'called with', args, 'and', kwargs, 'returned', res )\n",
        "    return res\n",
        "  return inner\n",
        "\n",
        "\n",
        "def div(a, b): \n",
        "  return a/b\n",
        "\n",
        "# syntactic sugar, same as line 28\n",
        "@debug\n",
        "def function2(a, b, operation=None): \n",
        "  if operation is None: \n",
        "    res = a + b\n",
        "  else: \n",
        "    res = operation( a, b )\n",
        "  return res\n",
        "\n",
        "# long and ugly\n",
        "dfunction = debug( function2 )\n",
        "\n",
        "function2( 12, 78, operation = div )"
      ],
      "metadata": {
        "id": "Ra2M5eaLk11x",
        "colab": {
          "base_uri": "https://localhost:8080/"
        },
        "outputId": "67fb6dd0-0725-4adf-d269-a65830864a48"
      },
      "execution_count": null,
      "outputs": [
        {
          "output_type": "stream",
          "name": "stdout",
          "text": [
            "function2 called with (12, 78) and {'operation': <function div at 0x7fe469ed8560>} returned 0.15384615384615385\n"
          ]
        },
        {
          "output_type": "execute_result",
          "data": {
            "text/plain": [
              "0.15384615384615385"
            ]
          },
          "metadata": {},
          "execution_count": 17
        }
      ]
    },
    {
      "cell_type": "code",
      "source": [
        "#  OO\n",
        "\n",
        "# a vector in 2D\n",
        "class Vector: \n",
        "  # dunders: double underscores or special methods (duck typing)   \n",
        "  # method\n",
        "  # default constructor (usable state)\n",
        "  def __init__(self, x, y):\n",
        "    self.__x = x\n",
        "    self.__y = y\n",
        "    return None\n",
        "\n",
        "  @property\n",
        "  def x(self): \n",
        "    return self.__x\n",
        "\n",
        "  @property\n",
        "  def y(self): \n",
        "    return self.__y\n",
        "  \n",
        "\n",
        "  def __repr__(self): \n",
        "    return f'({self.x}, {self.y})'\n",
        "\n",
        "  # right hand side \n",
        "  def __add__(self, rhs):\n",
        "    x = self.x + rhs.x\n",
        "    y = self.y + rhs.y\n",
        "    return Vector( x, y )\n",
        "\n",
        "  def __sub__(self, rhs):\n",
        "    return self + rhs.scale( -1 )\n",
        "  \n",
        "  def __hash__(self): \n",
        "    return hash( (self.x, self.y) )\n",
        "\n",
        "\n",
        "  def scale(self, factor): \n",
        "    x = self.x * factor\n",
        "    y = self.y * factor\n",
        "    return Vector( x, y ) \n",
        "\n",
        "  def angle(self, other): \n",
        "    import math \n",
        "\n",
        "    angle = math.acos( self.x / self.mod() )\n",
        "    return angle\n",
        "\n",
        "  def mod(self): \n",
        "    mod = ( self.x**2 + self.y**2 )**0.5\n",
        "    return mod\n",
        "\n",
        "\n",
        "# v1 is an istance of the class Vector\n",
        "'''\n",
        "v1 = Vector( 1, 2 )\n",
        "v1.__x = 15\n",
        "#v2 = Vector( 2, 4 )\n",
        "\n",
        "print( v1 )\n",
        "print( v2 )\n",
        "\n",
        "v3 = v1 - v2\n",
        "v4 = v3 + v1\n",
        "print( v3, v4 )\n",
        "'''\n",
        "\n",
        "v1 = Vector( 1, 2 )\n",
        "#v1.x = 15\n",
        "print( v1 )"
      ],
      "metadata": {
        "colab": {
          "base_uri": "https://localhost:8080/"
        },
        "id": "IFDHZdDjfv7b",
        "outputId": "8d2f595a-74ce-42ae-d51c-b86b6baed004"
      },
      "execution_count": null,
      "outputs": [
        {
          "output_type": "stream",
          "name": "stdout",
          "text": [
            "(1, 2)\n"
          ]
        }
      ]
    },
    {
      "cell_type": "code",
      "source": [
        "# reuse code \n",
        "\n",
        "\n",
        "# free functions (not methods)\n",
        "def polar2cart(d, angle):\n",
        "  from math import sin, cos, radians  \n",
        "  \n",
        "  x = d * cos( radians(angle) )\n",
        "  y = d * sin( radians(angle) )\n",
        "  return (x, y)\n",
        "\n",
        "\n",
        "# inheritance (code reuse)\n",
        "# Vector is the base class <-> Point extends (Point can do everything Vector can + more) Vector, (derivated class)\n",
        "class Point( Vector ): \n",
        "  def __init__(self, x, y, d, anglex):\n",
        "    Vector.__init__( self, x, y )\n",
        "\n",
        "    self.__d = d\n",
        "    self.__angle = anglex  \n",
        "    return None\n",
        "\n",
        "  # custom constructor\n",
        "  # class maintains its own invariants, not our problem anymore \n",
        "  @classmethod\n",
        "  def from_cartesian(cls, x, y): \n",
        "    v = Vector( x, y )\n",
        "    vx = Vector( 1, 0 )\n",
        "    angle = v.angle( vx )\n",
        "    d = v.mod()\n",
        "    \n",
        "    self = cls( x, y, d, angle )\n",
        "    return self\n",
        "\n",
        "  @classmethod\n",
        "  def from_polar(cls, d, anglex):\n",
        "    (x, y) = polar2cart( d, anglex ) \n",
        "    self = cls( x, y, d, anglex )\n",
        "    return self  \n",
        "\n",
        "  def __repr__(self): \n",
        "    string = f'cartesian: {Vector.__repr__(self)}, polar: ({self.d}, {self.angle})'\n",
        "    return string\n",
        "\n",
        "  @property\n",
        "  def d(self): \n",
        "    return self.__d\n",
        "  \n",
        "  @property\n",
        "  def angle(self): \n",
        "    return self.__angle\n",
        "\n",
        "  def move(self, x, y): \n",
        "    return Point.from_cartesian( self.x + x, self.y + y )\n",
        "\n",
        "  def __call__(self, *args, **kwargs): \n",
        "    print( args, kwargs )\n",
        "    return None \n",
        "\n",
        "\n",
        "\n",
        "\n",
        "\n",
        "p1 = Point.from_cartesian( 1, 2 )\n",
        "p2 = Point.from_polar( 5, 60 ) \n",
        "print( p1 )\n",
        "print( p2 )\n",
        "\n",
        "p3 = p1.move( 1, 1 )\n",
        "print( p3 )\n",
        "\n",
        "p3( v = 12 )"
      ],
      "metadata": {
        "colab": {
          "base_uri": "https://localhost:8080/"
        },
        "id": "TVaVBrXSk3Dv",
        "outputId": "7678efaf-c72f-466a-96ba-8d64bc3294ee"
      },
      "execution_count": null,
      "outputs": [
        {
          "output_type": "stream",
          "name": "stdout",
          "text": [
            "cartesian: (1, 2), polar: (2.23606797749979, 1.1071487177940904)\n",
            "cartesian: (2.5000000000000004, 4.330127018922193), polar: (5, 60)\n",
            "cartesian: (2, 3), polar: (3.605551275463989, 0.982793723247329)\n",
            "() {'v': 12}\n"
          ]
        }
      ]
    },
    {
      "cell_type": "code",
      "source": [
        "# immutable objects are hashable. \n",
        "pgas = {\n",
        "  p1: 458, p2: 861\n",
        "}"
      ],
      "metadata": {
        "id": "lEluWxEcscZG"
      },
      "execution_count": null,
      "outputs": []
    },
    {
      "cell_type": "code",
      "source": [
        "import numpy as np\n",
        "\n",
        "# example: function approximation \n",
        "# f(x)'' = -kf(x) \n",
        "# f(x) = sum ci fi(x) (base functions) c F = b \n",
        "# ci s.t. yi = f( xi )\n",
        "\n",
        "def function(x):\n",
        "  y = np.cos( x )\n",
        "\n",
        "  '''\n",
        "  y = list())\n",
        "  for xi in x:  \n",
        "    y.append( math.cos( xi ) )\n",
        "  '''\n",
        "  return y  \n",
        "\n",
        "\n",
        "# Functor (callable object, method __call__)\n",
        "# more similar to a lambda than a function \n",
        "class BaseFunction:\n",
        "  def __init__(self, exp): \n",
        "    self.exp = exp \n",
        "    return None \n",
        "\n",
        "  def __call__(self, x): \n",
        "    y = x**self.exp\n",
        "    return y\n",
        "\n",
        "\n",
        "def approximate(f, bases, a, b, nodesfunc=None, nodes=None): \n",
        "  # f(x) approx sum ci basesi\n",
        "  # unknown is ci, know vector must be passed (b.c.)  \n",
        "\n",
        "  # not optimal points\n",
        "  if nodes is None: \n",
        "    if nodesfunc is None: \n",
        "      points = np.linspace( a, b, len(bases) )\n",
        "    else: \n",
        "      points = nodesfunc( a, b, len(bases) )\n",
        "  \n",
        "  else: \n",
        "    points = nodes\n",
        "\n",
        "  # known part \n",
        "  b = [ f( x ) for x in  points ]\n",
        "  A = np.zeros( (len(bases), len(bases)) )\n",
        "\n",
        "  for l in range( len(bases) ): \n",
        "    for c in range( len(bases) ): \n",
        "      A[ l ][ c ] = bases[ c ]( points[ l ] )\n",
        "\n",
        "  #print( A )\n",
        "\n",
        "  c = np.linalg.solve( A, b )\n",
        "  #print( c )\n",
        "\n",
        "  def afunction(x): \n",
        "    y = 0\n",
        "    for idx in range( len(bases) ): \n",
        "      y += c[ idx ] * bases[ idx ]( x )\n",
        "    return y\n",
        "\n",
        "  return afunction"
      ],
      "metadata": {
        "id": "dc7z66cFyKyE"
      },
      "execution_count": 33,
      "outputs": []
    },
    {
      "cell_type": "code",
      "source": [
        "bases = list()\n",
        "for exp in range( 6 ): \n",
        "  base = BaseFunction( exp )\n",
        "  bases.append( base )\n",
        "\n",
        "a = 0 \n",
        "b = 5\n",
        "afunction = approximate( function, bases, a, b )\n",
        "\n",
        "\n",
        "from matplotlib import pyplot as plt \n",
        "\n",
        "(fig, ax) = plt.subplots()\n",
        "\n",
        "x = np.linspace( a, b, 100 )\n",
        "\n",
        "# it works!!!\n",
        "exact = function( x ) \n",
        "approx = afunction( x )\n",
        "\n",
        "ax.legend()\n",
        "ax.grid()\n",
        "ax.plot( x, exact, label = 'exact' )\n",
        "ax.plot( x, approx, label = 'approx' )\n",
        "\n",
        "fig.savefig( 'approx.svg' )"
      ],
      "metadata": {
        "colab": {
          "base_uri": "https://localhost:8080/",
          "height": 282
        },
        "id": "BlTA7mMVkUVG",
        "outputId": "eebf3565-8c3f-4b75-f72b-ef1919e7d1c6"
      },
      "execution_count": 34,
      "outputs": [
        {
          "output_type": "stream",
          "name": "stderr",
          "text": [
            "No handles with labels found to put in legend.\n"
          ]
        },
        {
          "output_type": "display_data",
          "data": {
            "text/plain": [
              "<Figure size 432x288 with 1 Axes>"
            ],
            "image/png": "[encoded data removed]"
          },
          "metadata": {
            "needs_background": "light"
          }
        }
      ]
    },
    {
      "cell_type": "code",
      "source": [
        "# another function \n",
        "\n",
        "def error(exact, approx): \n",
        "  err = max( abs(exact - approx) )\n",
        "  return err\n",
        "\n",
        "def runge(x):\n",
        "  y = 1 / (1 + 25 * x**2)\n",
        "  return y \n",
        "\n",
        "bases = list()\n",
        "for exp in range( 15 ): \n",
        "  base = BaseFunction( exp )\n",
        "  bases.append( base )\n",
        "\n",
        "a = -1 \n",
        "b = 1\n",
        "afunction = approximate( runge, bases, a, b )\n",
        "\n",
        "from matplotlib import pyplot as plt \n",
        "\n",
        "(fig, ax) = plt.subplots()\n",
        "\n",
        "x = np.linspace( a, b, 100 )\n",
        "\n",
        "# it works!!!\n",
        "exact = runge( x ) \n",
        "approx = afunction( x )\n",
        "\n",
        "err = error( exact, approx )\n",
        "print( 'error', err ) \n",
        "\n",
        "ax.legend()\n",
        "ax.grid()\n",
        "ax.plot( x, exact, label = 'exact' )\n",
        "ax.plot( x, approx, label = 'approx' )\n",
        "\n",
        "fig.savefig( 'approx.svg' )"
      ],
      "metadata": {
        "id": "UvUrLN46BdXC",
        "colab": {
          "base_uri": "https://localhost:8080/",
          "height": 300
        },
        "outputId": "b06f9610-2eab-4a55-cd9a-0038512555cd"
      },
      "execution_count": 35,
      "outputs": [
        {
          "output_type": "stream",
          "name": "stderr",
          "text": [
            "No handles with labels found to put in legend.\n"
          ]
        },
        {
          "output_type": "stream",
          "name": "stdout",
          "text": [
            "error 7.189298472104067\n"
          ]
        },
        {
          "output_type": "display_data",
          "data": {
            "text/plain": [
              "<Figure size 432x288 with 1 Axes>"
            ],
            "image/png": "[encoded data removed]"
          },
          "metadata": {
            "needs_background": "light"
          }
        }
      ]
    },
    {
      "cell_type": "code",
      "source": [
        "# chebyschev https://en.wikipedia.org/wiki/Chebyshev_nodes\n",
        "\n",
        "def nodes_cheb(a, b, n): \n",
        "  import math\n",
        "\n",
        "  nodes = np.zeros( n )\n",
        "  for k in range( 1, n + 1 ): \n",
        "    node = 0.5 * (a + b) + 0.5 * (b - a) * np.cos( (2 * k - 1) / (2 * n) * math.pi )\n",
        "    nodes[ k - 1 ] = node\n",
        "  return nodes\n",
        "\n",
        "a = -1 \n",
        "b = 1\n",
        "afunction = approximate( runge, bases, a, b, nodesfunc = nodes_cheb )\n",
        "\n",
        "from matplotlib import pyplot as plt \n",
        "\n",
        "(fig, ax) = plt.subplots()\n",
        "\n",
        "x = np.linspace( a, b, 100 )\n",
        "\n",
        "# it works!!!\n",
        "exact = runge( x ) \n",
        "approx = afunction( x )\n",
        "\n",
        "\n",
        "err = error( exact, approx )\n",
        "print( 'error', err )\n",
        "\n",
        "ax.legend()\n",
        "ax.grid()\n",
        "ax.plot( x, exact, label = 'exact' )\n",
        "ax.plot( x, approx, label = 'approx' )\n",
        "\n",
        "fig.savefig( 'approx.svg' )"
      ],
      "metadata": {
        "colab": {
          "base_uri": "https://localhost:8080/",
          "height": 300
        },
        "id": "_JYNbVbWk3cB",
        "outputId": "cbee015b-74d6-4266-854e-d8d034b6e43b"
      },
      "execution_count": 47,
      "outputs": [
        {
          "output_type": "stream",
          "name": "stderr",
          "text": [
            "No handles with labels found to put in legend.\n"
          ]
        },
        {
          "output_type": "stream",
          "name": "stdout",
          "text": [
            "error 0.04608936896641749\n"
          ]
        },
        {
          "output_type": "display_data",
          "data": {
            "text/plain": [
              "<Figure size 432x288 with 1 Axes>"
            ],
            "image/png": "[encoded data removed]"
          },
          "metadata": {
            "needs_background": "light"
          }
        }
      ]
    },
    {
      "cell_type": "code",
      "source": [
        "# find best nodes for minizing the error in approximation \n",
        "from scipy import optimize \n",
        "\n",
        "# def approximate(f, bases, a, b, nodesfunc=None)\n",
        "\n",
        "def error_wrapper(nodes):\n",
        "  afunction = approximate( runge, bases, a, b, nodes = nodes ) \n",
        "\n",
        "  x = np.linspace( a, b, 100 )\n",
        "  approx = afunction( x )\n",
        "  exact = runge( x ) \n",
        "\n",
        "  err = error( exact, approx )\n",
        "  return err \n",
        "\n",
        "\n",
        "\n",
        "n = len( bases )\n",
        "nodes0 = np.linspace( a, b, n )\n",
        "\n",
        "solution = optimize.minimize( error_wrapper, nodes0 )"
      ],
      "metadata": {
        "id": "B17d7PTlmEFV"
      },
      "execution_count": 48,
      "outputs": []
    },
    {
      "cell_type": "code",
      "source": [
        "print( solution )\n",
        "nodes = solution.x\n",
        "print( nodes )"
      ],
      "metadata": {
        "colab": {
          "base_uri": "https://localhost:8080/"
        },
        "id": "AgbXSJtcrWJ0",
        "outputId": "61379559-2394-40a6-ceea-82b8f1891397"
      },
      "execution_count": 54,
      "outputs": [
        {
          "output_type": "stream",
          "name": "stdout",
          "text": [
            "      fun: 0.2397286788988838\n",
            " hess_inv: array([[ 5.37933743e-05,  4.26920422e-06, -1.26097122e-03,\n",
            "         3.19752700e-04,  6.30093980e-04,  7.69403697e-04,\n",
            "        -1.95119738e-05,  1.55322145e-04, -8.88011415e-04,\n",
            "        -3.09095405e-04,  3.54630800e-04, -1.02364385e-03,\n",
            "         1.04741326e-03,  1.52358836e-05, -5.65737311e-05],\n",
            "       [ 4.26920422e-06,  2.39694180e-03,  2.65161400e-03,\n",
            "         1.03651231e-02, -2.17210520e-02, -2.64642822e-03,\n",
            "         2.26974165e-06, -1.87752177e-05,  1.14931463e-03,\n",
            "         2.89263792e-02, -3.22346856e-02, -4.43342793e-02,\n",
            "         2.97787352e-02, -1.89751671e-05,  3.52803917e-05],\n",
            "       [-1.26097122e-03,  2.65161400e-03,  1.09335676e-01,\n",
            "        -1.27844792e-01, -1.59535654e-01,  8.00061701e-02,\n",
            "        -2.69118312e-03,  2.13418922e-02, -1.11450066e-01,\n",
            "         2.46295056e-01, -2.69000749e-01, -2.80271123e-01,\n",
            "         2.68003339e-01, -1.05359310e-04,  1.41033046e-03],\n",
            "       [ 3.19752700e-04,  1.03651231e-02, -1.27844792e-01,\n",
            "         3.51268401e-01,  1.90126305e-02, -1.74537803e-01,\n",
            "         5.02631390e-03, -3.98708018e-02,  2.18476144e-01,\n",
            "        -1.77698838e-01,  2.63277071e-01,  5.28199767e-02,\n",
            "        -2.25998020e-01,  4.81417764e-04, -8.01233063e-04],\n",
            "       [ 6.30093980e-04, -2.17210520e-02, -1.59535654e-01,\n",
            "         1.90126305e-02,  7.31146626e-01, -2.99053509e-01,\n",
            "         9.76879016e-03, -7.75595592e-02,  4.08433415e-01,\n",
            "        -8.00986193e-01,  5.94171070e-01,  1.34025927e+00,\n",
            "        -9.82140012e-01, -2.72841233e-03,  4.86045657e-04],\n",
            "       [ 7.69403697e-04, -2.64642822e-03,  8.00061701e-02,\n",
            "        -1.74537803e-01, -2.99053509e-01,  2.86011557e-01,\n",
            "        -8.25715584e-03,  6.55580231e-02, -3.58824605e-01,\n",
            "         3.02043865e-01, -1.35417231e-01, -4.55859405e-01,\n",
            "         3.98976662e-01,  1.31995463e-03, -1.27917778e-03],\n",
            "       [-1.95119738e-05,  2.26974165e-06, -2.69118312e-03,\n",
            "         5.02631390e-03,  9.76879016e-03, -8.25715584e-03,\n",
            "         2.43847184e-04, -1.93592367e-03,  1.05188953e-02,\n",
            "        -1.10533414e-02,  7.03928207e-03,  1.70657931e-02,\n",
            "        -1.47259716e-02, -4.54799286e-05,  3.73431934e-05],\n",
            "       [ 1.55322145e-04, -1.87752178e-05,  2.13418922e-02,\n",
            "        -3.98708018e-02, -7.75595592e-02,  6.55580231e-02,\n",
            "        -1.93592367e-03,  1.53700814e-02, -8.35145587e-02,\n",
            "         8.77491055e-02, -5.58631995e-02, -1.35552310e-01,\n",
            "         1.16946405e-01,  3.61632689e-04, -2.97099012e-04],\n",
            "       [-8.88011415e-04,  1.14931463e-03, -1.11450066e-01,\n",
            "         2.18476144e-01,  4.08433415e-01, -3.58824605e-01,\n",
            "         1.05188953e-02, -8.35145587e-02,  4.54849674e-01,\n",
            "        -4.47278398e-01,  2.61530718e-01,  6.86539421e-01,\n",
            "        -5.94643513e-01, -1.87403547e-03,  1.61950616e-03],\n",
            "       [-3.09095405e-04,  2.89263792e-02,  2.46295056e-01,\n",
            "        -1.77698838e-01, -8.00986193e-01,  3.02043865e-01,\n",
            "        -1.10533414e-02,  8.77491055e-02, -4.47278398e-01,\n",
            "         1.31793962e+00, -1.48348935e+00, -2.15644766e+00,\n",
            "         1.79702036e+00,  4.58171907e-03, -1.57276746e-03],\n",
            "       [ 3.54630800e-04, -3.22346856e-02, -2.69000749e-01,\n",
            "         2.63277071e-01,  5.94171070e-01, -1.35417231e-01,\n",
            "         7.03928207e-03, -5.58631995e-02,  2.61530718e-01,\n",
            "        -1.48348935e+00,  2.08525234e+00,  2.36046282e+00,\n",
            "        -2.11610145e+00, -5.01261034e-03,  1.66022236e-03],\n",
            "       [-1.02364385e-03, -4.43342793e-02, -2.80271123e-01,\n",
            "         5.28199767e-02,  1.34025927e+00, -4.55859405e-01,\n",
            "         1.70657931e-02, -1.35552310e-01,  6.86539421e-01,\n",
            "        -2.15644766e+00,  2.36046282e+00,  3.97325977e+00,\n",
            "        -3.17687138e+00, -1.06017431e-02,  5.49018192e-03],\n",
            "       [ 1.04741326e-03,  2.97787352e-02,  2.68003339e-01,\n",
            "        -2.25998020e-01, -9.82140012e-01,  3.98976662e-01,\n",
            "        -1.47259716e-02,  1.16946405e-01, -5.94643513e-01,\n",
            "         1.79702036e+00, -2.11610145e+00, -3.17687138e+00,\n",
            "         2.67541227e+00,  8.37931469e-03, -4.25878831e-03],\n",
            "       [ 1.52358836e-05, -1.89751671e-05, -1.05359310e-04,\n",
            "         4.81417764e-04, -2.72841233e-03,  1.31995463e-03,\n",
            "        -4.54799286e-05,  3.61632689e-04, -1.87403547e-03,\n",
            "         4.58171907e-03, -5.01261034e-03, -1.06017431e-02,\n",
            "         8.37931469e-03,  1.47244516e-04, -3.15250854e-05],\n",
            "       [-5.65737311e-05,  3.52803917e-05,  1.41033046e-03,\n",
            "        -8.01233063e-04,  4.86045657e-04, -1.27917778e-03,\n",
            "         3.73431934e-05, -2.97099012e-04,  1.61950616e-03,\n",
            "        -1.57276746e-03,  1.66022236e-03,  5.49018192e-03,\n",
            "        -4.25878831e-03, -3.15250854e-05,  1.23903697e-04]])\n",
            "      jac: array([-2.91061401e-03, -4.25720215e-03, -4.50057983e-02, -1.18228912e-01,\n",
            "       -2.73513794e-01, -5.70308685e-01, -2.54656982e+00, -2.72824478e+00,\n",
            "       -1.89601517e+00, -2.01827621e+00, -1.28108978e+00, -1.41035843e+00,\n",
            "       -1.28619766e+00, -4.56831360e+00,  1.32335777e+01])\n",
            "  message: 'Desired error not necessarily achieved due to precision loss.'\n",
            "     nfev: 3541\n",
            "      nit: 15\n",
            "     njev: 208\n",
            "   status: 2\n",
            "  success: False\n",
            "        x: array([-1.00604415, -0.96814773, -0.70146956, -0.53829996, -0.40064049,\n",
            "       -0.28811365, -0.06130121,  0.148882  ,  0.27851346,  0.25495168,\n",
            "        0.55325319,  0.70825105,  0.6137763 ,  0.92258162,  0.99745681])\n",
            "[-1.00604415 -0.96814773 -0.70146956 -0.53829996 -0.40064049 -0.28811365\n",
            " -0.06130121  0.148882    0.27851346  0.25495168  0.55325319  0.70825105\n",
            "  0.6137763   0.92258162  0.99745681]\n"
          ]
        }
      ]
    },
    {
      "cell_type": "code",
      "source": [
        "cnodes = nodes_cheb( a, b, len(bases) )\n",
        "print( cnodes )"
      ],
      "metadata": {
        "colab": {
          "base_uri": "https://localhost:8080/"
        },
        "id": "lpPCdDrMr7XU",
        "outputId": "3f46d032-1708-4fcc-9367-a68778975e0f"
      },
      "execution_count": 45,
      "outputs": [
        {
          "output_type": "stream",
          "name": "stdout",
          "text": [
            "[ 9.94521895e-01  9.51056516e-01  8.66025404e-01  7.43144825e-01\n",
            "  5.87785252e-01  4.06736643e-01  2.07911691e-01  6.12323400e-17\n",
            " -2.07911691e-01 -4.06736643e-01 -5.87785252e-01 -7.43144825e-01\n",
            " -8.66025404e-01 -9.51056516e-01 -9.94521895e-01]\n"
          ]
        }
      ]
    },
    {
      "cell_type": "code",
      "source": [
        "(fig, ax) = plt.subplots()\n",
        "\n",
        "\n",
        "# it works!!!\n",
        "exact = runge( x ) \n",
        "\n",
        "cnode = nodes_cheb( a, b, len(bases) )\n",
        "afc = approximate( runge, bases, a, b, nodes = cnodes ) # cheb \n",
        "approxc = afc( x )\n",
        "\n",
        "onodes = solution.x\n",
        "afo = approximate( runge, bases, a, b, nodes = onodes ) # minimize\n",
        "approxo = afo( x )\n",
        "\n",
        "err = error( exact, approx )\n",
        "print( 'error', err )\n",
        "\n",
        "ax.plot( x, exact, label = 'exact' )\n",
        "ax.plot( x, approxc, label = 'cheb' )\n",
        "ax.plot( x, approxo, label = 'minimize' )\n",
        "\n",
        "ax.legend()\n",
        "ax.grid()\n",
        "fig.savefig( 'approx.svg' )"
      ],
      "metadata": {
        "colab": {
          "base_uri": "https://localhost:8080/",
          "height": 282
        },
        "id": "bTT29B7BsaBw",
        "outputId": "0d457699-89ba-403c-9e87-dd60e4507141"
      },
      "execution_count": 53,
      "outputs": [
        {
          "output_type": "stream",
          "name": "stdout",
          "text": [
            "error 0.04608936896641749\n"
          ]
        },
        {
          "output_type": "display_data",
          "data": {
            "text/plain": [
              "<Figure size 432x288 with 1 Axes>"
            ],
            "image/png": "[encoded data removed]"
          },
          "metadata": {
            "needs_background": "light"
          }
        }
      ]
    },
    {
      "cell_type": "code",
      "source": [
        "# cheb seems better that minimize, change the method!\n",
        "\n",
        "mstring = ''' \n",
        "Nelder-Mead (see here)\n",
        "Powell (see here)\n",
        "CG (see here)\n",
        "BFGS (see here)\n",
        "Newton-CG (see here)\n",
        "L-BFGS-B (see here)\n",
        "TNC (see here)\n",
        "COBYLA (see here)\n",
        "SLSQP (see here)\n",
        "trust-constr (see here)\n",
        "dogleg (see here)\n",
        "trust-ncg (see here)\n",
        "trust-exact (see here)\n",
        "trust-krylov (see here)\n",
        "'''\n",
        "\n",
        "# directon of max rate of change f(x)\n",
        "# x = x0 - grad( x0 )"
      ],
      "metadata": {
        "colab": {
          "base_uri": "https://localhost:8080/",
          "height": 71
        },
        "id": "iOAcUPHXts5Z",
        "outputId": "b79ee879-09e5-4fac-d19f-de906698e92f"
      },
      "execution_count": 57,
      "outputs": [
        {
          "output_type": "execute_result",
          "data": {
            "text/plain": [
              "' \\nNelder-Mead (see here)\\nPowell (see here)\\nCG (see here)\\nBFGS (see here)\\nNewton-CG (see here)\\nL-BFGS-B (see here)\\nTNC (see here)\\nCOBYLA (see here)\\nSLSQP (see here)\\ntrust-constr (see here)\\ndogleg (see here)\\ntrust-ncg (see here)\\ntrust-exact (see here)\\ntrust-krylov (see here)\\n'"
            ],
            "application/vnd.google.colaboratory.intrinsic+json": {
              "type": "string"
            }
          },
          "metadata": {},
          "execution_count": 57
        }
      ]
    },
    {
      "cell_type": "code",
      "source": [
        ""
      ],
      "metadata": {
        "id": "t0uIsBXAw1Xj"
      },
      "execution_count": null,
      "outputs": []
    }
  ],
  "metadata": {
    "kernelspec": {
      "display_name": "Python 3",
      "language": "python",
      "name": "python3"
    },
    "language_info": {
      "codemirror_mode": {
        "name": "ipython"
      },
      "file_extension": ".py",
      "mimetype": "text/x-python",
      "name": "python",
      "nbconvert_exporter": "python"
    },
    "colab": {
      "name": "notebook.ipynb",
      "provenance": [],
      "collapsed_sections": []
    }
  },
  "nbformat": 4,
  "nbformat_minor": 0
}